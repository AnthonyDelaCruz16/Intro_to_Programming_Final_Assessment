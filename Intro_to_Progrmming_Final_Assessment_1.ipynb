{
  "nbformat": 4,
  "nbformat_minor": 0,
  "metadata": {
    "colab": {
      "provenance": [],
      "authorship_tag": "ABX9TyMcJA4esK+/+bUDaRX0Gpk/",
      "include_colab_link": true
    },
    "kernelspec": {
      "name": "python3",
      "display_name": "Python 3"
    },
    "language_info": {
      "name": "python"
    }
  },
  "cells": [
    {
      "cell_type": "markdown",
      "metadata": {
        "id": "view-in-github",
        "colab_type": "text"
      },
      "source": [
        "<a href=\"https://colab.research.google.com/github/AnthonyDelaCruz16/Intro_to_Programming_Final_Assessment/blob/main/Intro_to_Progrmming_Final_Assessment_1.ipynb\" target=\"_parent\"><img src=\"https://colab.research.google.com/assets/colab-badge.svg\" alt=\"Open In Colab\"/></a>"
      ]
    },
    {
      "cell_type": "markdown",
      "source": [
        "Chapter 1: Introduction to Python"
      ],
      "metadata": {
        "id": "Iy4DMqPItJf2"
      }
    },
    {
      "cell_type": "markdown",
      "source": [
        "Excercise 1\n",
        " Write a Python program to print the following string in a specific format.\n",
        "\n",
        "Twinkle, twinkle, little star,\n",
        "\tHow I wonder what you are!\n",
        "\t\tUp above the world so high,\n",
        "\t\tLike a diamond in the sky.\n",
        "Twinkle, twinkle, little star,\n",
        "\tHow I wonder what you are\n",
        "\n",
        "  below is the solution of the excersice"
      ],
      "metadata": {
        "id": "oIQRhV8J54bU"
      }
    },
    {
      "cell_type": "code",
      "execution_count": null,
      "metadata": {
        "id": "0sn8x74ntDP6"
      },
      "outputs": [],
      "source": [
        "# Define the lines of the poem\n",
        "lines = [\n",
        "    \"Twinkle, twinkle, little star,\",\n",
        "    \"\\tHow I wonder what you are!\",\n",
        "    \"\\t\\tUp above the world so high,\",\n",
        "    \"\\t\\tLike a diamond in the sky.\",\n",
        "    \"Twinkle, twinkle, little star,\",\n",
        "    \"\\tHow I wonder what you are\"\n",
        "]\n",
        "\n",
        "# Print the poem with the specified format\n",
        "for line in lines:\n",
        "    print(line)"
      ]
    },
    {
      "cell_type": "markdown",
      "source": [
        "Exercise 2: Print the Version of Python\n",
        "\n",
        " Write a Python program to get the Python version you are using.\n",
        "\n",
        " below is the solution to the exercise"
      ],
      "metadata": {
        "id": "SJ7r-pyf7N36"
      }
    },
    {
      "cell_type": "code",
      "source": [
        "import sys\n",
        "\n",
        "print(\"Python Version:\", sys.version)"
      ],
      "metadata": {
        "id": "LP-oC5c-7Mqd"
      },
      "execution_count": null,
      "outputs": []
    },
    {
      "cell_type": "markdown",
      "source": [
        "Exercise 3: Print date and Time\n",
        "\n",
        "Write a Python program to display the current date and time.\n",
        "\n",
        "below is a code to display the current date and time"
      ],
      "metadata": {
        "id": "ZzjQoRgX8Ojy"
      }
    },
    {
      "cell_type": "code",
      "source": [
        "import datetime\n",
        "\n",
        "# Get the current date and time\n",
        "current_datetime = datetime.datetime.now()\n",
        "\n",
        "# Format and print the current date and time\n",
        "formatted_datetime = current_datetime.strftime(\"%m-%d-%Y %H:%M:%S\")\n",
        "print(\"Current Date and Time:\", formatted_datetime)"
      ],
      "metadata": {
        "id": "uAPf6ez_8TG9"
      },
      "execution_count": null,
      "outputs": []
    },
    {
      "cell_type": "markdown",
      "source": [
        "Exercise 4: Strings Concatination\n",
        "\n",
        "Write three strings in different variables and print the output as one string.\n",
        "\n",
        "Below is the solution"
      ],
      "metadata": {
        "id": "khT7fmHr9WF0"
      }
    },
    {
      "cell_type": "code",
      "source": [
        "# Define three strings in different variables\n",
        "str1 = \"Hi,\"\n",
        "str2 = \" My name is\"\n",
        "str3 = \" Anthony.\"\n",
        "\n",
        "# Concatenate the strings and print the result\n",
        "result = str1 + str2 + str3\n",
        "print(result)"
      ],
      "metadata": {
        "colab": {
          "base_uri": "https://localhost:8080/"
        },
        "id": "ORxo7yGN9hAF",
        "outputId": "5a94b015-2ec0-4535-ae5a-b13c938f7005"
      },
      "execution_count": 6,
      "outputs": [
        {
          "output_type": "stream",
          "name": "stdout",
          "text": [
            "Hi, My name is Anthony.\n"
          ]
        }
      ]
    },
    {
      "cell_type": "markdown",
      "source": [
        "Exercise 5: Compute area of Circle\n",
        "\n",
        "Write a Python program which accepts the radius of a circle from the user and compute the area.\n",
        "\n",
        "Below is the solution\n",
        "\n",
        "\n"
      ],
      "metadata": {
        "id": "C4e_rpYrFlUE"
      }
    },
    {
      "cell_type": "code",
      "source": [
        "import math\n",
        "\n",
        "# Input: Get the radius from the user\n",
        "radius = float(input(\"Enter the radius of the circle: \"))\n",
        "\n",
        "# Calculate the area of the circle\n",
        "area = math.pi * radius**2\n",
        "\n",
        "# Print the result\n",
        "print(\"The area of the circle with radius\", radius, \"is:\", area)"
      ],
      "metadata": {
        "colab": {
          "base_uri": "https://localhost:8080/"
        },
        "id": "L5UWIl9xGCc1",
        "outputId": "36ea6f4c-8340-4ce8-b59c-be10418fd56a"
      },
      "execution_count": 8,
      "outputs": [
        {
          "output_type": "stream",
          "name": "stdout",
          "text": [
            "Enter the radius of the circle: 50\n",
            "The area of the circle with radius 50.0 is: 7853.981633974483\n"
          ]
        }
      ]
    },
    {
      "cell_type": "markdown",
      "source": [
        "Exercise 6 - 10: Bonus\n",
        "\n",
        "here I try to make a better version of all the previous codes"
      ],
      "metadata": {
        "id": "kccCiiWgTcqY"
      }
    },
    {
      "cell_type": "code",
      "source": [
        "def print_poem(poem_lines):\n",
        "    for line in poem_lines:\n",
        "        print(line)\n",
        "\n",
        "# Define the lines of the poem\n",
        "custom_poem = [\n",
        "    \"Twinkle, twinkle, little star,\",\n",
        "    \"\\tHow I wonder what you are!\",\n",
        "    \"\\t\\tUp above the world so high,\",\n",
        "    \"\\t\\tLike a diamond in the sky.\",\n",
        "    \"Twinkle, twinkle, little star,\",\n",
        "    \"\\tHow I wonder what you are\"\n",
        "]\n",
        "\n",
        "# Print the poem with the specified format\n",
        "print(\"Original Poem:\")\n",
        "print_poem(custom_poem)\n",
        "\n",
        "# Modify the poem\n",
        "custom_poem[1] = \"\\tLike a brilliant star you are!\"\n",
        "custom_poem[4] = \"\\tHow I marvel at your light!\"\n",
        "\n",
        "# Print the modified poem\n",
        "print(\"\\nModified Poem:\")\n",
        "print_poem(custom_poem)"
      ],
      "metadata": {
        "id": "HrkzwZGNTqhR"
      },
      "execution_count": null,
      "outputs": []
    },
    {
      "cell_type": "code",
      "source": [
        "import sys\n",
        "\n",
        "# Get Python version information\n",
        "python_version = sys.version\n",
        "python_version_info = sys.version_info\n",
        "\n",
        "# Print Python version details\n",
        "print(f\"Python Version: {python_version}\")\n",
        "print(f\"Python Version Info: {python_version_info.major}.{python_version_info.minor}.{python_version_info.micro}\")"
      ],
      "metadata": {
        "id": "z8nQFDHBUNsw"
      },
      "execution_count": null,
      "outputs": []
    },
    {
      "cell_type": "markdown",
      "source": [
        "With this code I only found a way to simplify it further"
      ],
      "metadata": {
        "id": "eO0qP2Nmco_F"
      }
    },
    {
      "cell_type": "code",
      "source": [
        "import datetime\n",
        "\n",
        "# Format and print the current date and time\n",
        "print(\"Current Date and Time:\", datetime.datetime.now().strftime(\"%m-%d-%Y %H:%M:%S\"))"
      ],
      "metadata": {
        "colab": {
          "base_uri": "https://localhost:8080/"
        },
        "id": "P5qXJ0xwU4MC",
        "outputId": "fd6a1ca8-229a-48e5-d383-95b5d7060ed3"
      },
      "execution_count": 19,
      "outputs": [
        {
          "output_type": "stream",
          "name": "stdout",
          "text": [
            "Current Date and Time: 08-22-2023 18:12:09\n"
          ]
        }
      ]
    },
    {
      "cell_type": "code",
      "source": [
        "def concatenate_and_format_strings(str1, str2, str3):\n",
        "    # Concatenate the strings\n",
        "    concatenated_str = str1 + \" \" + str2 + \" \" + str3 + \" \" + str4\n",
        "\n",
        "    # Convert to uppercase\n",
        "    uppercased_str = concatenated_str.upper()\n",
        "\n",
        "    # Replace spaces with hyphens\n",
        "    hyphenated_str = uppercased_str.replace(\" \", \"-\")\n",
        "\n",
        "    return hyphenated_str\n",
        "\n",
        "# Define three strings in different variables\n",
        "str1 = \"Hi,\"\n",
        "str2 = \"My name is\"\n",
        "str3 = \"Anthony.\"\n",
        "str4 = \"I study in Bathspa University R.A.K, U.A.E\"\n",
        "\n",
        "# Call the function to concatenate, format, and print the strings\n",
        "formatted_result = concatenate_and_format_strings(str1, str2, str3)\n",
        "print(\"Formatted and Concatenated String:\", formatted_result)"
      ],
      "metadata": {
        "colab": {
          "base_uri": "https://localhost:8080/"
        },
        "id": "W-hpnFOHeHTP",
        "outputId": "c99f8c36-c36d-4e6d-c8c7-3a1af075f3be"
      },
      "execution_count": 29,
      "outputs": [
        {
          "output_type": "stream",
          "name": "stdout",
          "text": [
            "Formatted and Concatenated String: HI,-MY-NAME-IS-ANTHONY.-I-STUDY-IN-BATHSPA-UNIVERSITY-R.A.K,-U.A.E\n"
          ]
        }
      ]
    },
    {
      "cell_type": "code",
      "source": [
        "import math\n",
        "\n",
        "def calculate_circle_properties(radius, option):\n",
        "    if option == 1:\n",
        "        # Calculate the area of the circle\n",
        "        area = math.pi * radius**2\n",
        "        return area\n",
        "    elif option == 2:\n",
        "        # Calculate the circumference of the circle\n",
        "        circumference = 2 * math.pi * radius\n",
        "        return circumference\n",
        "    else:\n",
        "        return None\n",
        "\n",
        "try:\n",
        "    # Input: Get the radius from the user\n",
        "    radius = float(input(\"Enter the radius of the circle (in meters): \"))\n",
        "\n",
        "    # Input: Choose what to calculate\n",
        "    print(\"Select an option:\")\n",
        "    print(\"1. Calculate Area\")\n",
        "    print(\"2. Calculate Circumference\")\n",
        "    option = int(input(\"Enter your choice (1. Calculate Area/2. Calculate Circumference): \"))\n",
        "\n",
        "    result = calculate_circle_properties(radius, option)\n",
        "\n",
        "    if result is not None:\n",
        "        if option == 1:\n",
        "            print(f\"The area of the circle with radius {radius} meters is {result:.2f} square meters.\")\n",
        "        else:\n",
        "            print(f\"The circumference of the circle with radius {radius} meters is {result:.2f} meters.\")\n",
        "    else:\n",
        "        print(\"Invalid option. Please choose 1 or 2.\")\n",
        "\n",
        "except ValueError:\n",
        "    print(\"Invalid input. Please enter a valid radius (numeric value).\")"
      ],
      "metadata": {
        "id": "c5ccZH1fgboi"
      },
      "execution_count": null,
      "outputs": []
    },
    {
      "cell_type": "markdown",
      "source": [
        "Chapter 2: Variables & Comments"
      ],
      "metadata": {
        "id": "dv0Xo2m0JejD"
      }
    },
    {
      "cell_type": "markdown",
      "source": [
        "Exercise 1: Variables\n",
        "\n",
        "\n",
        "Assign a message to a variable, and print that message.\n",
        "Then change the value of the variable to a new message, and print the new\n",
        "message."
      ],
      "metadata": {
        "id": "vFAVr2gCLhwu"
      }
    },
    {
      "cell_type": "code",
      "source": [
        "# Assign a message to a variable based on user input\n",
        "message = input(\"Enter the initial message: \")\n",
        "\n",
        "# Print the initial message\n",
        "print(\"Initial Message:\", message)\n",
        "\n",
        "# Change the value of the variable to a new message based on user input\n",
        "new_message = input(\"Enter a new message: \")\n",
        "message = new_message\n",
        "\n",
        "# Print the new message\n",
        "print(\"New Message:\", message)"
      ],
      "metadata": {
        "colab": {
          "base_uri": "https://localhost:8080/"
        },
        "id": "a4DhqW1GJmtc",
        "outputId": "085e47da-9a97-472b-d113-49fa57492892"
      },
      "execution_count": 43,
      "outputs": [
        {
          "output_type": "stream",
          "name": "stdout",
          "text": [
            "Enter the initial message: hello\n",
            "Initial Message: hello\n",
            "Enter a new message: world\n",
            "New Message: world\n"
          ]
        }
      ]
    },
    {
      "cell_type": "markdown",
      "source": [
        "Exercise 2: Variables\n",
        "Find a quote from a famous person you admire. Print the quote and the name of its author.\n",
        "\n",
        "Your output should look something like the following, including the quotation marks:\n",
        "\n",
        "Kobe Bryant once said, ‟The moment you give up, is the moment you let someone else win”\n"
      ],
      "metadata": {
        "id": "kyY1AjwhjA8i"
      }
    },
    {
      "cell_type": "code",
      "source": [
        "# Define the quote and its author\n",
        "quote = \"The moment you give up, is the moment you let someone else win\"\n",
        "author = \"Kobe Bryant\"\n",
        "\n",
        "# Print the quote and its author\n",
        "print(f'{author} once said, \"{quote}\"')"
      ],
      "metadata": {
        "id": "WXSUQ3Q1kjlS"
      },
      "execution_count": null,
      "outputs": []
    },
    {
      "cell_type": "markdown",
      "source": [
        "Exercise 3: Stripping Names\n",
        "\n",
        "Tidy up the code to make it easier to understand\n",
        "\n",
        "Use a variable to represent a person’s name, and include some whitespace characters at the beginning and end of the name. Make sure you use each character combination, “\\t” and “\\n”, at least once.\n",
        "\n",
        "Print the name once, so the whitespace around the name is displayed.\n",
        "\n",
        "Then print the name using each of the three stripping functions, lstrip(), rstrip(), and strip()."
      ],
      "metadata": {
        "id": "VGqPX9ApkqCu"
      }
    },
    {
      "cell_type": "code",
      "source": [
        "# Define a variable for the person's name with leading and trailing whitespace\n",
        "name_with_whitespace = \"\\tAnthony Joseph Dela Cruz\\n\"\n",
        "\n",
        "# Print the name with whitespace\n",
        "print(\"Name with Whitespace:\", name_with_whitespace)\n",
        "\n",
        "# Print the name after using lstrip() to remove leading whitespace\n",
        "print(\"Name after lstrip():\", name_with_whitespace.lstrip())\n",
        "\n",
        "# Print the name after using rstrip() to remove trailing whitespace\n",
        "print(\"Name after rstrip():\", name_with_whitespace.rstrip())\n",
        "\n",
        "# Print the name after using strip() to remove both leading and trailing whitespace\n",
        "print(\"Name after strip():\", name_with_whitespace.strip())"
      ],
      "metadata": {
        "id": "tIo4iQRrm6ws"
      },
      "execution_count": null,
      "outputs": []
    },
    {
      "cell_type": "markdown",
      "source": [
        "Exercise 4: Favorite Number\n",
        "Use a variable to represent your favorite number. Then,using that variable, create a message that reveals your favorite number. Print\n",
        "that message.\n"
      ],
      "metadata": {
        "id": "TnLGtUfYnVYf"
      }
    },
    {
      "cell_type": "code",
      "source": [
        "# Define a variable for your favorite number\n",
        "favorite_number = 20\n",
        "\n",
        "# Create a message revealing your favorite number\n",
        "message = f\"Anthony's favorite number is {favorite_number}.\"\n",
        "\n",
        "# Print the message\n",
        "print(message)"
      ],
      "metadata": {
        "id": "wJcRAEoZnjR9"
      },
      "execution_count": null,
      "outputs": []
    },
    {
      "cell_type": "markdown",
      "source": [
        "Exercise 5: USB Shopper\n",
        "\n",
        "A girl heads to a computer shop to buy some USB sticks. She loves USB sticks and wants as many as she can get for £50. They are £6 each.\n",
        "\n",
        "Write a programme that calculates how many USB sticks she can buy and how many pounds she will have left.\n",
        "\n",
        "You will to use the arithmetic operators to complete this exercise."
      ],
      "metadata": {
        "id": "0aLQtmuInwS2"
      }
    },
    {
      "cell_type": "code",
      "source": [
        "# Define the total amount of money the girl has\n",
        "total_money = 50  # £50\n",
        "\n",
        "# Define the cost of one USB stick\n",
        "usb_price = 6  # £6 each\n",
        "\n",
        "# Calculate the number of USB sticks she can buy\n",
        "num_usb_sticks = total_money // usb_price\n",
        "\n",
        "# Calculate the remaining money after buying USB sticks\n",
        "remaining_money = total_money % usb_price\n",
        "\n",
        "# Print the results\n",
        "print(f\"She can buy {num_usb_sticks} USB sticks.\")\n",
        "print(f\"She will have £{remaining_money} left.\")"
      ],
      "metadata": {
        "colab": {
          "base_uri": "https://localhost:8080/"
        },
        "id": "5SQb4rw3o0wC",
        "outputId": "dc7e1b73-5778-44a9-9ed1-975534ec170b"
      },
      "execution_count": 42,
      "outputs": [
        {
          "output_type": "stream",
          "name": "stdout",
          "text": [
            "She can buy 8 USB sticks.\n",
            "She will have £2 left.\n"
          ]
        }
      ]
    },
    {
      "cell_type": "markdown",
      "source": [
        "Exercise 6-10 Finding more ways to improve the previous codes"
      ],
      "metadata": {
        "id": "I-ASYdSopZjW"
      }
    },
    {
      "cell_type": "code",
      "source": [
        "def display_menu():\n",
        "    print(\"\\nMenu:\")\n",
        "    print(\"1. Set Initial Message\")\n",
        "    print(\"2. Append to Current Message\")\n",
        "    print(\"3. Replace Current Message\")\n",
        "    print(\"4. Print Current Message\")\n",
        "    print(\"5. Quit\")\n",
        "\n",
        "def main():\n",
        "    message = \"\"\n",
        "\n",
        "    while True:\n",
        "        display_menu()\n",
        "        choice = input(\"Enter your choice (1/2/3/4/5): \")\n",
        "\n",
        "        if choice == '1':\n",
        "            message = input(\"Enter the initial message: \")\n",
        "        elif choice == '2':\n",
        "            append_text = input(\"Enter the text to append: \")\n",
        "            message += append_text\n",
        "        elif choice == '3':\n",
        "            new_message = input(\"Enter a new message: \")\n",
        "            message = new_message\n",
        "        elif choice == '4':\n",
        "            print(\"Current Message:\", message)\n",
        "        elif choice == '5':\n",
        "            print(\"Goodbye!\")\n",
        "            break\n",
        "        else:\n",
        "            print(\"Invalid choice. Please select a valid option.\")\n",
        "\n",
        "if __name__ == \"__main__\":\n",
        "    main()"
      ],
      "metadata": {
        "id": "4lJ8xPwmphcI"
      },
      "execution_count": null,
      "outputs": []
    },
    {
      "cell_type": "code",
      "source": [
        "# Input: Get the quote and its author from the user\n",
        "quote = input(\"Enter a famous quote: \")\n",
        "author = input(\"Enter the name of the author: \")\n",
        "\n",
        "# Print the quote and its author\n",
        "print(f'{author} once said, \"{quote}\"')"
      ],
      "metadata": {
        "id": "rZDsqu5GkMAU"
      },
      "execution_count": null,
      "outputs": []
    },
    {
      "cell_type": "code",
      "source": [
        "# Define multiple strings with different whitespace configurations\n",
        "name1 = \"  Roan  \"\n",
        "name2 = \"\\tAnthony\\t \"\n",
        "name3 = \"   Gian\\t\"\n",
        "\n",
        "# Print the original names\n",
        "print(\"Original Names:\")\n",
        "print(\"Name 1:\", name1)\n",
        "print(\"Name 2:\", name2)\n",
        "print(\"Name 3:\", name3)\n",
        "\n",
        "# Apply stripping functions to each name\n",
        "name1_stripped = name1.strip()\n",
        "name2_stripped = name2.strip()\n",
        "name3_stripped = name3.strip()\n",
        "\n",
        "# Print the stripped names\n",
        "print(\"\\nStripped Names:\")\n",
        "print(\"Name 1 (Stripped):\", name1_stripped)\n",
        "print(\"Name 2 (Stripped):\", name2_stripped)\n",
        "print(\"Name 3 (Stripped):\", name3_stripped)"
      ],
      "metadata": {
        "id": "6XDKuCmPmx8c"
      },
      "execution_count": null,
      "outputs": []
    },
    {
      "cell_type": "code",
      "source": [
        "# Initialize an empty dictionary to store favorite numbers\n",
        "favorite_numbers = {}\n",
        "\n",
        "def add_favorite_number(name):\n",
        "    while True:\n",
        "        try:\n",
        "            favorite_number = int(input(f\"Enter {name}'s favorite number: \"))\n",
        "            favorite_numbers[name] = favorite_number\n",
        "            print(f\"{name}'s favorite number ({favorite_number}) has been recorded.\")\n",
        "            break\n",
        "        except ValueError:\n",
        "            print(\"Invalid input. Please enter a valid number.\")\n",
        "\n",
        "def display_favorite_numbers():\n",
        "    print(\"\\nFavorite Numbers:\")\n",
        "    for name, number in favorite_numbers.items():\n",
        "        print(f\"{name}: {number}\")\n",
        "\n",
        "while True:\n",
        "    name = input(\"Enter a person's name (or 'quit' to exit): \")\n",
        "    if name.lower() == 'quit':\n",
        "        break\n",
        "    add_favorite_number(name)\n",
        "\n",
        "display_favorite_numbers()"
      ],
      "metadata": {
        "id": "lZr9I015sGgz"
      },
      "execution_count": null,
      "outputs": []
    },
    {
      "cell_type": "code",
      "source": [
        "# Define item prices\n",
        "item_prices = {\n",
        "    \"USB sticks\": 6,    # £6 each\n",
        "    \"Headphones\": 20,   # £20 each\n",
        "    \"Laptop\": 400,      # £400 each\n",
        "    \"Mouse\": 10,        # £10 each\n",
        "}\n",
        "\n",
        "# Prompt the user to enter the item they want\n",
        "while True:\n",
        "    item_choice = input(\"Enter the item you want to purchase (or 'quit' to exit): \")\n",
        "    if item_choice.lower() == 'quit':\n",
        "        print(\"Goodbye!\")\n",
        "        break\n",
        "\n",
        "    if item_choice in item_prices:\n",
        "        # Prompt the user to enter their budget\n",
        "        while True:\n",
        "            try:\n",
        "                total_money = float(input(\"Enter your budget in £: \"))\n",
        "                break\n",
        "            except ValueError:\n",
        "                print(\"Invalid input. Please enter a valid number.\")\n",
        "\n",
        "        # Calculate how many of the selected item the user can buy\n",
        "        price = item_prices[item_choice]\n",
        "        num_items = int(total_money // price)\n",
        "\n",
        "        # Calculate the total amount spent\n",
        "        total_spent = num_items * price\n",
        "\n",
        "        # Print the results\n",
        "        print(f\"\\nYou can buy {num_items} {item_choice}(s) with £{total_money:.2f}.\")\n",
        "        print(f\"Total Amount Spent: £{total_spent:.2f}\")\n",
        "        print(f\"Remaining Money: £{total_money - total_spent:.2f}\")\n",
        "    else:\n",
        "        print(\"Invalid item choice. Please choose from the available items.\")"
      ],
      "metadata": {
        "id": "KEaiHZTas8jF"
      },
      "execution_count": null,
      "outputs": []
    },
    {
      "cell_type": "markdown",
      "source": [
        "Chapter 3: Data Structures"
      ],
      "metadata": {
        "id": "lTrCn1eUty01"
      }
    },
    {
      "cell_type": "markdown",
      "source": [
        "Exercise 1: Names\n",
        "\n",
        "Store the names of a few of your friends in a list called names. Print each person’s name by accessing each element in the list, one at a time."
      ],
      "metadata": {
        "id": "RDjth8DUt-20"
      }
    },
    {
      "cell_type": "code",
      "source": [
        "# Create a list of friends' names\n",
        "names = [\"Roan\", \"Christian\", \"Gian\", \"Naile\", \"Cedric\"]\n",
        "\n",
        "# Print each person's name one at a time\n",
        "for name in names:\n",
        "    print(name)"
      ],
      "metadata": {
        "id": "9ejVj74_uCnx"
      },
      "execution_count": null,
      "outputs": []
    },
    {
      "cell_type": "markdown",
      "source": [
        "Exercise 2: Greetings\n",
        "\n",
        "Start with the list you used in Exercise 1, but instead of just\n",
        "\n",
        "printing each person’s name, print a message to them. The text of each message should be the same, but each message should be\n",
        "\n",
        "personalized with the person’s name."
      ],
      "metadata": {
        "id": "0DMhBysgvzsw"
      }
    },
    {
      "cell_type": "code",
      "source": [
        "# Create a list of friends' names\n",
        "names = [\"Roan\", \"Christian\", \"Gian\", \"Naile\", \"Cedric\"]\n",
        "\n",
        "# Define a common message template\n",
        "message_template = \"What's up, {name}! Just wanted to greet you a good day.\"\n",
        "\n",
        "# Print personalized messages to each person\n",
        "for name in names:\n",
        "    personalized_message = message_template.format(name=name)\n",
        "    print(personalized_message)"
      ],
      "metadata": {
        "id": "VIbfGv9KwBI1"
      },
      "execution_count": null,
      "outputs": []
    },
    {
      "cell_type": "markdown",
      "source": [
        "Exercise 3: Your Own List\n",
        "\n",
        "Think of your favorite mode of transportation, such as a motorcycle or a car, and make a list that stores several examples. Use your list\n",
        "\n",
        "to print a series of statements about these items, such as “I would like to own a Honda motorcycle.”"
      ],
      "metadata": {
        "id": "OWfrSWepw1Fo"
      }
    },
    {
      "cell_type": "code",
      "source": [
        "# Create a list of car brands\n",
        "car_brands = [\"Lamborghini\", \"Audi\", \"Mercedes\", \"BMW\", \"Tesla\"]\n",
        "\n",
        "# Print statements about each car brand\n",
        "for brand in car_brands:\n",
        "    print(f\"I would like to own a {brand} car.\")"
      ],
      "metadata": {
        "id": "Olfb76HZw-rr"
      },
      "execution_count": null,
      "outputs": []
    },
    {
      "cell_type": "markdown",
      "source": [
        "Exercise 4: Guest List\n",
        "\n",
        "If you could invite anyone, living or deceased, to dinner, who would you invite? Make a list that includes at least three people you’d\n",
        "\n",
        "like to invite to dinner. Then use your list to print a message to each person, invitingthem to dinner."
      ],
      "metadata": {
        "id": "8qwcZw_PxOyZ"
      }
    },
    {
      "cell_type": "code",
      "source": [
        "# Create a list of people to invite to dinner\n",
        "guest_list = [\"Sabrina Carpenter\", \"Gal Gadot\", \"Roan\"]\n",
        "\n",
        "# Print invitations to each person\n",
        "for person in guest_list:\n",
        "    print(f\"Dear {person},\\nYou are cordially invited to dinner at my place. Please join us for an evening of great conversation and delicious food!\\n\\nSincerely, Anthony\\n\")"
      ],
      "metadata": {
        "id": "_Slg48NtxZnQ"
      },
      "execution_count": null,
      "outputs": []
    },
    {
      "cell_type": "markdown",
      "source": [
        "Exercise 5: Change Guest List\n",
        "\n",
        "You just heard that one of your guests can’t make the\n",
        "dinner, so you need to send out a new set of invitations. You’ll have to think of\n",
        "someone else to invite.\n",
        "\n",
        "•Start with your program from Exercise 3-4. Add a print() call at the end of your program stating the name of the guest who can’t make it.\n",
        "\n",
        "•Modify your list, replacing the name of the guest who can’t make it with the name of the new person you are inviting.\n",
        "\n",
        "•Print a second set of invitation messages, one for each person who is still in your list."
      ],
      "metadata": {
        "id": "aBag56pkxqIn"
      }
    },
    {
      "cell_type": "code",
      "source": [
        "# Initial guest list\n",
        "guest_list = [\"Sabrina Carpenter\", \"Gal Gadot\", \"Roan\"]\n",
        "\n",
        "# Print invitations to the initial guest list\n",
        "print(\"Initial Invitations:\")\n",
        "for person in guest_list:\n",
        "    print(f\"Dear {person},\\nYou are cordially invited to dinner at my place. Please join us for an evening of great conversation and delicious food!\\n\\nSincerely, Anthony\\n\")\n",
        "\n",
        "# Name of the guest who can't make it\n",
        "cannot_attend = \"Sabrina Carpenter\"\n",
        "print(f\"{cannot_attend} sorry I can't make it to the dinner I have a concert.\\n\")\n",
        "\n",
        "# Replace the guest who can't make it with a new person\n",
        "guest_list[guest_list.index(cannot_attend)] = \"Margot Robbie\"\n",
        "\n",
        "# Print invitations to the updated guest list\n",
        "print(\"Updated Invitations:\")\n",
        "for person in guest_list:\n",
        "    print(f\"Dear {person},\\nYou are cordially invited to dinner at my place. Please join us for an evening of great conversation and delicious food!\\n\\nSincerely, Anthony\\n\")"
      ],
      "metadata": {
        "id": "QCuYx6Vkx2dp"
      },
      "execution_count": null,
      "outputs": []
    },
    {
      "cell_type": "markdown",
      "source": [
        "Exercise 6:\n",
        "\n",
        "You just found out that your new dinner table won’t arrive in time for the dinner, and you have space for only two guests.\n",
        "\n",
        "•Start with your program from Exercise 3-5. Add a new line that prints a message saying that you can invite only two people for dinner.\n",
        "\n",
        "•Use pop() to remove guests from your list one at a time until only two names remain in your list. Each time you pop a name from your list, print a message to that person letting them know you’re sorry you can’t invite them to dinner.\n",
        "\n",
        "•Print a message to each of the two people still on your list, letting them know they’re still invited.\n",
        "\n",
        "•Use del to remove the last two names from your list, so you have an empty list. Print your list to make sure you actually have an empty list at the end of your program."
      ],
      "metadata": {
        "id": "ZDcr-jcp2yGu"
      }
    },
    {
      "cell_type": "code",
      "source": [
        "# Create a list of guests for dinner\n",
        "guest_list = [\"Sabrina Carpenter\", \"Roan\", \"Gal Gadot\", \"Margot Robbie\", \"Johnny Depp\"]\n",
        "\n",
        "# Print a message indicating the dinner table limitation\n",
        "print(\"Sorry, but there's space for only two guests for dinner.\")\n",
        "\n",
        "# Use pop() to remove guests until only two names remain\n",
        "while len(guest_list) > 2:\n",
        "    removed_guest = guest_list.pop()\n",
        "    print(f\"Sorry, {removed_guest}, but we can't invite you to dinner this time.\")\n",
        "\n",
        "# Print invitations to the two remaining guests\n",
        "for remaining_guest in guest_list:\n",
        "    print(f\"Dear {remaining_guest},\\nYou are still invited to dinner.\")\n",
        "\n",
        "# Use del to remove the last two names from the list\n",
        "del guest_list[:]\n",
        "\n",
        "# Print the empty list to confirm\n",
        "print(\"Empty guest list:\", guest_list)"
      ],
      "metadata": {
        "id": "efpENryo2q7j"
      },
      "execution_count": null,
      "outputs": []
    },
    {
      "cell_type": "markdown",
      "source": [
        "Exercise 7: Seeing the World\n",
        "Think of at least five places in the world you’d like to visit.\n",
        "•\t Store the locations in a list. Make sure the list is not in alphabetical order.\n",
        "\n",
        "•\t Print your list in its original order. Don’t worry about printing the list neatly,just print it as a raw Python list.\n",
        "\n",
        "•\t Use sorted() to print your list in alphabetical order without modifying the actual list.\n",
        "\n",
        "•\t Show that your list is still in its original order by printing it.\n",
        "\n",
        "•\t Use sorted() to print your list in reverse alphabetical order without changing the order of the original list.\n",
        "\n",
        "•\t Show that your list is still in its original order by printing it again.\n",
        "\n",
        "•\t Use reverse() to change the order of your list. Print the list to show that its order has changed.\n",
        "\n",
        "•\t Use reverse() to change the order of your list again. Print the list to show it’s back to its original order.\n",
        "\n",
        "•\t Use sort() to change your list so it’s stored in alphabetical order. Print the list to show that its order has been changed.\n",
        "\n",
        "•\t Use sort() to change your list so it’s stored in reverse alphabetical order. Print the list to show that its order has changed.\n",
        "\n"
      ],
      "metadata": {
        "id": "nQkvTIXm3Vf8"
      }
    },
    {
      "cell_type": "code",
      "source": [
        "# Create a list of places to visit\n",
        "places_to_visit = [\"Japan\", \"South Korea\", \"Australia\", \"Bali\", \"Netherlands\"]\n",
        "\n",
        "# Print the list in its original order\n",
        "print(\"Original order:\", places_to_visit)\n",
        "\n",
        "# Use sorted() to print the list in alphabetical order without modifying it\n",
        "print(\"Alphabetical order:\", sorted(places_to_visit))\n",
        "\n",
        "# Confirm that the original order is still intact\n",
        "print(\"Original order:\", places_to_visit)\n",
        "\n",
        "# Use sorted() to print the list in reverse alphabetical order without modifying it\n",
        "print(\"Reverse alphabetical order:\", sorted(places_to_visit, reverse=True))\n",
        "\n",
        "# Confirm that the original order is still intact\n",
        "print(\"Original order:\", places_to_visit)\n",
        "\n",
        "# Use reverse() to change the order of the list\n",
        "places_to_visit.reverse()\n",
        "\n",
        "# Print the list to show the changed order\n",
        "print(\"Reversed order:\", places_to_visit)\n",
        "\n",
        "# Use reverse() again to change the order back to the original\n",
        "places_to_visit.reverse()\n",
        "\n",
        "# Print the list to show it's back to the original order\n",
        "print(\"Original order:\", places_to_visit)\n",
        "\n",
        "# Use sort() to change the list to alphabetical order\n",
        "places_to_visit.sort()\n",
        "\n",
        "# Print the list to show the changed order\n",
        "print(\"Alphabetical order:\", places_to_visit)\n",
        "\n",
        "# Use sort() to change the list to reverse alphabetical order\n",
        "places_to_visit.sort(reverse=True)\n",
        "\n",
        "# Print the list to show the changed order\n",
        "print(\"Reverse alphabetical order:\", places_to_visit)"
      ],
      "metadata": {
        "id": "I59-_-zA3Uda"
      },
      "execution_count": null,
      "outputs": []
    },
    {
      "cell_type": "markdown",
      "source": [
        "Exercises 8-14 Further improving the codes above"
      ],
      "metadata": {
        "id": "Ak34lDbMyeNC"
      }
    },
    {
      "cell_type": "code",
      "source": [
        "# Create a list of friends' names\n",
        "names = [\"Roan\", \"Christian\", \"Gian\", \"Naile\", \"Cedric\"]\n",
        "\n",
        "# Initialize an empty list to store the selected names\n",
        "selected_names = []\n",
        "\n",
        "# Prompt the user to print each person's name one at a time\n",
        "for name in names:\n",
        "    user_input = input(f\"Do you want to print '{name}'? (yes/no): \")\n",
        "    if user_input.lower() == \"yes\":\n",
        "        selected_names.append(name)\n",
        "\n",
        "# Print each selected name one by one\n",
        "print(\"\\nSelected Names:\")\n",
        "for name in selected_names:\n",
        "    print(name)\n",
        "\n",
        "# Print all selected names as a whole\n",
        "if selected_names:\n",
        "    print(\"\\nAll Selected Names Together:\")\n",
        "    print(\", \".join(selected_names))\n",
        "else:\n",
        "    print(\"\\nNo names were selected.\")"
      ],
      "metadata": {
        "id": "rsshEnLV0Mrz"
      },
      "execution_count": null,
      "outputs": []
    },
    {
      "cell_type": "code",
      "source": [
        "# Create a list of friends' names\n",
        "names = [\"Roan\", \"Christian\", \"Gian\", \"Naile\", \"Cedric\"]\n",
        "\n",
        "# Define a message template for personalized messages\n",
        "message_template = \"Hello, {name}! Have a great day.\"\n",
        "\n",
        "# Initialize an empty list to store the selected names\n",
        "selected_names = []\n",
        "\n",
        "# Prompt the user to print each person's name one at a time\n",
        "for name in names:\n",
        "    user_input = input(f\"Do you want to print '{name}'? (yes/no): \")\n",
        "    if user_input.lower() == \"yes\":\n",
        "        selected_names.append(name)\n",
        "\n",
        "# Print personalized messages to each selected name\n",
        "print(\"\\nPersonalized Messages:\")\n",
        "for name in selected_names:\n",
        "    personalized_message = message_template.format(name=name)\n",
        "    print(personalized_message)\n",
        "\n",
        "# Create a dictionary to store custom messages for each name\n",
        "custom_messages = {\n",
        "    \"Roan\": \"Happy Birthday, Roan! Have an amazing day!\",\n",
        "    \"Christian\": \"Hi Christian, hope you're doing well!\",\n",
        "    \"Gian\": \"Greetings Gian, keep up the great work!\",\n",
        "    \"Naile\": \"Naile, you're awesome! Keep shining!\",\n",
        "    \"Cedric\": \"Hey Cedric, wishing you a fantastic day!\",\n",
        "}\n",
        "\n",
        "# Print custom messages for selected names\n",
        "print(\"\\nCustom Messages:\")\n",
        "for name in selected_names:\n",
        "    if name in custom_messages:\n",
        "        print(f\"{name}: {custom_messages[name]}\")\n",
        "    else:\n",
        "        print(f\"No custom message for {name}.\")\n",
        "\n",
        "# Print all selected names as a whole\n",
        "if selected_names:\n",
        "    print(\"\\nAll Selected Names Together:\")\n",
        "    print(\", \".join(selected_names))\n",
        "else:\n",
        "    print(\"\\nNo names were selected.\")"
      ],
      "metadata": {
        "id": "cZyz5ol-yitK"
      },
      "execution_count": null,
      "outputs": []
    },
    {
      "cell_type": "code",
      "source": [
        "# Create a list of car brands with additional details\n",
        "car_brands = [\n",
        "    {\"brand\": \"Lamborghini\", \"description\": \"Known for luxury and speed.\"},\n",
        "    {\"brand\": \"Audi\", \"description\": \"Emphasizes performance and technology.\"},\n",
        "    {\"brand\": \"Mercedes\", \"description\": \"Renowned for comfort and elegance.\"},\n",
        "    {\"brand\": \"BMW\", \"description\": \"Famous for its sporty and dynamic cars.\"},\n",
        "    {\"brand\": \"Tesla\", \"description\": \"Leading the way in electric vehicles.\"},\n",
        "]\n",
        "\n",
        "# Print detailed statements about each car brand\n",
        "for car in car_brands:\n",
        "    print(f\"I would like to own a {car['brand']} car.\")\n",
        "    print(f\"Description: {car['description']}\\n\")"
      ],
      "metadata": {
        "id": "9rC-Av_i1Bg-"
      },
      "execution_count": null,
      "outputs": []
    },
    {
      "cell_type": "code",
      "source": [
        "# Create a list of people to invite to dinner with additional details\n",
        "guests = [\n",
        "    {\"name\": \"Sabrina Carpenter\", \"status\": \"confirmed\"},\n",
        "    {\"name\": \"Gal Gadot\", \"status\": \"pending\"},\n",
        "    {\"name\": \"Roan\", \"status\": \"confirmed\"},\n",
        "]\n",
        "\n",
        "# Print invitations and additional details for each guest\n",
        "for guest in guests:\n",
        "    name = guest[\"name\"]\n",
        "    status = guest[\"status\"]\n",
        "\n",
        "    print(f\"Dear {name},\")\n",
        "\n",
        "    if status == \"confirmed\":\n",
        "        print(f\"You are cordially invited to dinner at my place. Please join us for an evening of great conversation and delicious food!\")\n",
        "    elif status == \"pending\":\n",
        "        print(f\"We would love to have you at our dinner, but we're waiting for your confirmation.\")\n",
        "    else:\n",
        "        print(f\"We're sorry, but your attendance has been canceled for this dinner.\")\n",
        "\n",
        "    print(\"\\nSincerely, Anthony\\n\")"
      ],
      "metadata": {
        "id": "OpCj3MWA1bSv"
      },
      "execution_count": null,
      "outputs": []
    },
    {
      "cell_type": "code",
      "source": [
        "# Create a list of guest dictionaries with details\n",
        "guests = [\n",
        "    {\"name\": \"Sabrina Carpenter\", \"status\": \"confirmed\", \"diet\": \"vegetarian\"},\n",
        "    {\"name\": \"Gal Gadot\", \"status\": \"pending\", \"diet\": \"non-vegetarian\"},\n",
        "    {\"name\": \"Roan\", \"status\": \"confirmed\", \"diet\": \"vegan\"},\n",
        "]\n",
        "\n",
        "# Print invitations and details for each guest\n",
        "def print_invitation(guest):\n",
        "    name = guest[\"name\"]\n",
        "    status = guest[\"status\"]\n",
        "    diet = guest[\"diet\"]\n",
        "\n",
        "    print(f\"Dear {name},\")\n",
        "\n",
        "    if status == \"confirmed\":\n",
        "        print(f\"You are cordially invited to dinner at my place.\")\n",
        "    elif status == \"pending\":\n",
        "        print(f\"We would love to have you at our dinner, but we're waiting for your confirmation.\")\n",
        "    else:\n",
        "        print(f\"We're sorry, but your attendance has been canceled for this dinner.\")\n",
        "\n",
        "    print(f\"Dietary preference: {diet}\")\n",
        "    print(\"\\nSincerely, Anthony\\n\")\n",
        "\n",
        "# Print initial invitations\n",
        "print(\"Initial Invitations:\")\n",
        "for guest in guests:\n",
        "    print_invitation(guest)\n",
        "\n",
        "# Name of the guest who can't make it\n",
        "cannot_attend = \"Sabrina Carpenter\"\n",
        "print(f\"{cannot_attend} sorry I can't make it to the dinner I have a concert.\\n\")\n",
        "\n",
        "# Replace the guest who can't make it with a new person\n",
        "new_guest = {\"name\": \"Margot Robbie\", \"status\": \"confirmed\", \"diet\": \"non-vegetarian\"}\n",
        "for i, guest in enumerate(guests):\n",
        "    if guest[\"name\"] == cannot_attend:\n",
        "        guests[i] = new_guest\n",
        "\n",
        "# Print updated invitations\n",
        "print(\"Updated Invitations:\")\n",
        "for guest in guests:\n",
        "    print_invitation(guest)"
      ],
      "metadata": {
        "id": "XsWDQVIg1prT"
      },
      "execution_count": null,
      "outputs": []
    },
    {
      "cell_type": "code",
      "source": [
        "# Create a list of guest dictionaries with details\n",
        "guests = [\n",
        "    {\"name\": \"Sabrina Carpenter\", \"status\": \"confirmed\", \"diet\": \"vegetarian\"},\n",
        "    {\"name\": \"Roan\", \"status\": \"confirmed\", \"diet\": \"vegan\"},\n",
        "    {\"name\": \"Gal Gadot\", \"status\": \"pending\", \"diet\": \"non-vegetarian\"},\n",
        "    {\"name\": \"Margot Robbie\", \"status\": \"confirmed\", \"diet\": \"non-vegetarian\"},\n",
        "    {\"name\": \"Johnny Depp\", \"status\": \"canceled\", \"diet\": \"vegetarian\"},\n",
        "]\n",
        "\n",
        "# Print a message indicating the dinner table limitation\n",
        "print(\"Sorry, but there's space for only two guests for dinner.\")\n",
        "\n",
        "# Use pop() to remove guests until only two names remain\n",
        "while len(guests) > 2:\n",
        "    removed_guest = guests.pop()\n",
        "    name = removed_guest[\"name\"]\n",
        "    status = removed_guest[\"status\"]\n",
        "    print(f\"Sorry, {name}, but we can't invite you to dinner this time. ({status} status)\")\n",
        "\n",
        "# Print invitations to the two remaining guests\n",
        "print(\"Invitations to the remaining guests:\")\n",
        "for guest in guests:\n",
        "    name = guest[\"name\"]\n",
        "    diet = guest[\"diet\"]\n",
        "    print(f\"Dear {name},\\nYou are still invited to dinner. Dietary preference: {diet}\")\n",
        "\n",
        "# Allow for adding new guests to the list\n",
        "new_guest = {\"name\": \"Robert Downy Jr.\", \"status\": \"confirmed\", \"diet\": \"non-vegetarian\"}\n",
        "guests.append(new_guest)\n",
        "\n",
        "# Print the updated guest list\n",
        "print(\"Updated guest list:\")\n",
        "for guest in guests:\n",
        "    name = guest[\"name\"]\n",
        "    diet = guest[\"diet\"]\n",
        "    print(f\"{name} ({diet})\")\n",
        "\n",
        "# Use del to remove the last two names from the list\n",
        "del guests[:2]\n",
        "\n",
        "# Print the empty guest list to confirm\n",
        "print(\"Empty guest list:\", guests)"
      ],
      "metadata": {
        "id": "QFEcQxab4MW3"
      },
      "execution_count": null,
      "outputs": []
    },
    {
      "cell_type": "code",
      "source": [
        "# Create a list of places to visit\n",
        "places_to_visit = [\"Japan\", \"South Korea\", \"Australia\", \"Bali\", \"Netherlands\"]\n",
        "\n",
        "# Define a function to sort places based on the length of their names\n",
        "def sort_by_length(place):\n",
        "    return len(place)\n",
        "\n",
        "# Print the list in its original order\n",
        "print(\"Original order:\", places_to_visit)\n",
        "\n",
        "# Use sorted() to print the list in alphabetical order without modifying it\n",
        "print(\"Alphabetical order:\", sorted(places_to_visit))\n",
        "\n",
        "# Confirm that the original order is still intact\n",
        "print(\"Original order:\", places_to_visit)\n",
        "\n",
        "# Use sorted() to print the list in reverse alphabetical order without modifying it\n",
        "print(\"Reverse alphabetical order:\", sorted(places_to_visit, reverse=True))\n",
        "\n",
        "# Confirm that the original order is still intact\n",
        "print(\"Original order:\", places_to_visit)\n",
        "\n",
        "# Use reverse() to change the order of the list\n",
        "places_to_visit.reverse()\n",
        "\n",
        "# Print the list to show the changed order\n",
        "print(\"Reversed order:\", places_to_visit)\n",
        "\n",
        "# Use reverse() again to change the order back to the original\n",
        "places_to_visit.reverse()\n",
        "\n",
        "# Print the list to show it's back to the original order\n",
        "print(\"Original order:\", places_to_visit)\n",
        "\n",
        "# Use sort() to change the list to alphabetical order\n",
        "places_to_visit.sort()\n",
        "\n",
        "# Print the list to show the changed order\n",
        "print(\"Alphabetical order:\", places_to_visit)\n",
        "\n",
        "# Use sort() to change the list to reverse alphabetical order\n",
        "places_to_visit.sort(reverse=True)\n",
        "\n",
        "# Print the list to show the changed order\n",
        "print(\"Reverse alphabetical order:\", places_to_visit)\n",
        "\n",
        "# Allow for adding new places to the list\n",
        "new_place = \"Sweden\"\n",
        "places_to_visit.append(new_place)\n",
        "\n",
        "# Print the updated list with a custom sort based on name length\n",
        "print(\"Updated list with custom sort:\")\n",
        "for place in sorted(places_to_visit, key=sort_by_length):\n",
        "    print(place)"
      ],
      "metadata": {
        "id": "GwfO84Fx4_sC"
      },
      "execution_count": null,
      "outputs": []
    },
    {
      "cell_type": "markdown",
      "source": [
        "Chapter 4: Control Flow"
      ],
      "metadata": {
        "id": "DSca_PJb1x-Z"
      }
    },
    {
      "cell_type": "markdown",
      "source": [
        "Exercise 1:  Alien Colors #1\n",
        "\n",
        "Imagine an alien was just shot down in a game. Create a variable called alien_color and assign it a value of 'green', 'yellow', or 'red'.\n",
        "\n",
        "•Write an if statement to test whether the alien’s color is green. If it is, print a message that the player just earned 5 points.\n",
        "\n",
        "•Write one version of this program that passes the if test and another that fails. (The version that fails will have no output.)\n"
      ],
      "metadata": {
        "id": "JeSTpTQm5gkn"
      }
    },
    {
      "cell_type": "markdown",
      "source": [
        "Version 1"
      ],
      "metadata": {
        "id": "hm_TeGRE6HUp"
      }
    },
    {
      "cell_type": "code",
      "source": [
        "# Set the alien's color\n",
        "alien_color = 'green'\n",
        "\n",
        "# Check if the alien's color is green and award points\n",
        "if alien_color == 'green':\n",
        "    print(\"Congratulations! You just earned 5 points for shooting down a green alien.\")"
      ],
      "metadata": {
        "colab": {
          "base_uri": "https://localhost:8080/"
        },
        "id": "LQtqierT5nP_",
        "outputId": "d70eb918-70c4-4c39-fc7a-9301f30f339e"
      },
      "execution_count": 90,
      "outputs": [
        {
          "output_type": "stream",
          "name": "stdout",
          "text": [
            "Congratulations! You just earned 5 points for shooting down a green alien.\n"
          ]
        }
      ]
    },
    {
      "cell_type": "markdown",
      "source": [
        "Version 2"
      ],
      "metadata": {
        "id": "7cgGYYgm6J_r"
      }
    },
    {
      "cell_type": "code",
      "source": [
        "# Set the alien's color\n",
        "alien_color = 'red'\n",
        "\n",
        "# Check if the alien's color is green and award points\n",
        "if alien_color == 'green':\n",
        "    print(\"Better luck next time. Look for a green alien.\")"
      ],
      "metadata": {
        "colab": {
          "base_uri": "https://localhost:8080/"
        },
        "id": "DjAlZoVI6K-J",
        "outputId": "4eab8211-2a1a-4ef2-bdeb-60d39f6ef389"
      },
      "execution_count": 98,
      "outputs": [
        {
          "output_type": "stream",
          "name": "stdout",
          "text": [
            "Better luck next time. Look for the green alien\n"
          ]
        }
      ]
    },
    {
      "cell_type": "markdown",
      "source": [
        "Exercise 2: Alien Colors #2\n",
        "\n",
        "Choose a color for an alien as you did in Exercise 5-3, and write an if-else chain.\n",
        "\n",
        "•If the alien’s color is green, print a statement that the player just earned 5 points for shooting the alien.\n",
        "\n",
        "•If the alien’s color isn’t green, print a statement that the player just earned 10 points.\n",
        "\n",
        "•Write one version of this program that runs the if block and another that runs the else block.\n"
      ],
      "metadata": {
        "id": "-KMHKl_t68cu"
      }
    },
    {
      "cell_type": "code",
      "source": [
        "# Get the alien's color from the user\n",
        "alien_color = input(\"Choose the alien's color (green, yellow, or red): \")\n",
        "\n",
        "# Check the alien's color and award points accordingly\n",
        "if alien_color == 'green':\n",
        "    print(\"Congratulations! You just earned 5 points for shooting the green alien.\")\n",
        "else:\n",
        "    print(\"Congratulations! You just earned 10 points.\")"
      ],
      "metadata": {
        "id": "vM2eSeY48I8u"
      },
      "execution_count": null,
      "outputs": []
    },
    {
      "cell_type": "markdown",
      "source": [
        "Exercise 3: Alien Colors #3\n",
        "\n",
        "Turn your if-else chain from Exercise 5-4 into an if-elifelse chain.\n",
        "\n",
        "•\t If the alien is green, print a message that the player earned 5 points.\n",
        "\n",
        "•\t If the alien is yellow, print a message that the player earned 10 points.\n",
        "\n",
        "•\t If the alien is red, print a message that the player earned 15 points.\n",
        "\n",
        "•\t Write three versions of this program, making sure each message is printed for the appropriate color alien.\n"
      ],
      "metadata": {
        "id": "MMJC5hG6AGRW"
      }
    },
    {
      "cell_type": "markdown",
      "source": [
        "Version 1"
      ],
      "metadata": {
        "id": "auhNjI61ARgA"
      }
    },
    {
      "cell_type": "code",
      "source": [
        "# Set the alien's color\n",
        "alien_color = 'green'\n",
        "\n",
        "# Check the alien's color and award points accordingly\n",
        "if alien_color == 'green':\n",
        "    print(\"Congratulations! You just earned 5 points for shooting the green alien.\")\n",
        "elif alien_color == 'yellow':\n",
        "    print(\"Congratulations! You just earned 10 points for shooting the yellow alien.\")\n",
        "else:\n",
        "    print(\"Congratulations! You just earned 15 points for shooting the red alien.\")"
      ],
      "metadata": {
        "colab": {
          "base_uri": "https://localhost:8080/"
        },
        "id": "paPpomftASxO",
        "outputId": "366a09ab-72c7-46cc-a42c-f402029c8546"
      },
      "execution_count": 101,
      "outputs": [
        {
          "output_type": "stream",
          "name": "stdout",
          "text": [
            "Congratulations! You just earned 5 points for shooting the green alien.\n"
          ]
        }
      ]
    },
    {
      "cell_type": "markdown",
      "source": [
        "Version 2"
      ],
      "metadata": {
        "id": "DXqdcMwKAXIV"
      }
    },
    {
      "cell_type": "code",
      "source": [
        "# Set the alien's color\n",
        "alien_color = 'yellow'\n",
        "\n",
        "# Check the alien's color and award points accordingly\n",
        "if alien_color == 'green':\n",
        "    print(\"Congratulations! You just earned 5 points for shooting the green alien.\")\n",
        "elif alien_color == 'yellow':\n",
        "    print(\"Congratulations! You just earned 10 points for shooting the yellow alien.\")\n",
        "else:\n",
        "    print(\"Congratulations! You just earned 15 points for shooting the red alien.\")"
      ],
      "metadata": {
        "colab": {
          "base_uri": "https://localhost:8080/"
        },
        "id": "oM_alI0rAYvn",
        "outputId": "e81e238b-8420-4c28-991f-db5256014f8f"
      },
      "execution_count": 102,
      "outputs": [
        {
          "output_type": "stream",
          "name": "stdout",
          "text": [
            "Congratulations! You just earned 10 points for shooting the yellow alien.\n"
          ]
        }
      ]
    },
    {
      "cell_type": "markdown",
      "source": [
        "Version 3"
      ],
      "metadata": {
        "id": "ujURqxSYAiJI"
      }
    },
    {
      "cell_type": "code",
      "source": [
        "# Set the alien's color\n",
        "alien_color = 'red'\n",
        "\n",
        "# Check the alien's color and award points accordingly\n",
        "if alien_color == 'green':\n",
        "    print(\"Congratulations! You just earned 5 points for shooting the green alien.\")\n",
        "elif alien_color == 'yellow':\n",
        "    print(\"Congratulations! You just earned 10 points for shooting the yellow alien.\")\n",
        "else:\n",
        "    print(\"Congratulations! You just earned 15 points for shooting the red alien.\")"
      ],
      "metadata": {
        "colab": {
          "base_uri": "https://localhost:8080/"
        },
        "id": "HgE2jjLhAjXN",
        "outputId": "d8fc13d6-41ea-4a0a-af08-4964f8c1637b"
      },
      "execution_count": 103,
      "outputs": [
        {
          "output_type": "stream",
          "name": "stdout",
          "text": [
            "Congratulations! You just earned 15 points for shooting the red alien.\n"
          ]
        }
      ]
    },
    {
      "cell_type": "markdown",
      "source": [
        "Exercise 4: Stages of Life\n",
        "\n",
        "Write an if-elif-else chain that determines a person’s stage of life. Set a value for the variable age, and then:\n",
        "\n",
        "•If the person is less than 2 years old, print a message that the person is a baby.\n",
        "\n",
        "•If the person is at least 2 years old but less than 4, print a message that the person is a toddler.\n",
        "\n",
        "•If the person is at least 4 years old but less than 13, print a message that the person is a kid.\n",
        "\n",
        "•If the person is at least 13 years old but less than 20, print a message that the person is a teenager.\n",
        "\n",
        "•If the person is at least 20 years old but less than 65, print a message that the person is an adult.\n",
        "\n",
        "•If the person is age 65 or older, print a message that the person is an elder.\n"
      ],
      "metadata": {
        "id": "MBMfh0RuArD_"
      }
    },
    {
      "cell_type": "code",
      "source": [
        "# Set the person's age\n",
        "age = int(input(\"Enter the person's age: \"))\n",
        "\n",
        "# Determine the person's stage of life\n",
        "if age < 2:\n",
        "    print(\"The person is a baby.\")\n",
        "elif age < 4:\n",
        "    print(\"The person is a toddler.\")\n",
        "elif age < 13:\n",
        "    print(\"The person is a kid.\")\n",
        "elif age < 20:\n",
        "    print(\"The person is a teenager.\")\n",
        "elif age < 65:\n",
        "    print(\"The person is an adult.\")\n",
        "else:\n",
        "    print(\"The person is an elder.\")"
      ],
      "metadata": {
        "id": "45N-Bd90Avp9"
      },
      "execution_count": null,
      "outputs": []
    },
    {
      "cell_type": "markdown",
      "source": [
        "Exercise 5: Favorite Fruit\n",
        "\n",
        "Make a list of your favorite fruits, and then write a series of independent if statements that check for certain fruits in your list.\n",
        "\n",
        "•Make a list of your three favorite fruits and call it favorite_fruits.\n",
        "\n",
        "•Write five if statements. Each should check whether a certain kind of fruit is in your list. If the fruit is in your list, the if block\n",
        "\n",
        "should print a statement,such as You really like bananas!\n"
      ],
      "metadata": {
        "id": "HkcpXKmFA9Kt"
      }
    },
    {
      "cell_type": "code",
      "source": [
        "# Make a list of your favorite fruits\n",
        "favorite_fruits = [\"apple\", \"mangos\", \"strawberry\"]\n",
        "\n",
        "# Check for specific fruits and print messages\n",
        "if \"apple\" in favorite_fruits:\n",
        "    print(\"You really like apples!\")\n",
        "\n",
        "if \"mangos\" in favorite_fruits:\n",
        "    print(\"You really like mangos!\")\n",
        "\n",
        "if \"kiwi\" in favorite_fruits:\n",
        "    print(\"You really like kiwis!\")\n",
        "\n",
        "if \"strawberry\" in favorite_fruits:\n",
        "    print(\"You really like strawberries!\")\n",
        "\n",
        "if \"orange\" in favorite_fruits:\n",
        "    print(\"You really like oranges!\")"
      ],
      "metadata": {
        "id": "hGRoTAEtBCqk"
      },
      "execution_count": null,
      "outputs": []
    },
    {
      "cell_type": "markdown",
      "source": [
        "Exercises 6-10 improvements for the first 5 exercises"
      ],
      "metadata": {
        "id": "7b_GoH8qBUbQ"
      }
    },
    {
      "cell_type": "markdown",
      "source": [
        "Exercise 1 improvements"
      ],
      "metadata": {
        "id": "aFzcYKU1C9_6"
      }
    },
    {
      "cell_type": "markdown",
      "source": [
        "Version 1"
      ],
      "metadata": {
        "id": "7ceZs3tzB4WG"
      }
    },
    {
      "cell_type": "code",
      "source": [
        "# Set the alien's color\n",
        "alien_color = 'green'\n",
        "\n",
        "# Set the initial points earned\n",
        "points_earned = 0\n",
        "\n",
        "# Check if the alien's color is green and award points\n",
        "if alien_color == 'green':\n",
        "    points_earned = 5\n",
        "    print(\"Congratulations! You just earned 5 points for shooting down a green alien.\")\n",
        "else:\n",
        "    print(\"You missed the green alien!\")\n",
        "\n",
        "# Check if the alien's color is red and take special action\n",
        "if alien_color == 'red':\n",
        "    print(\"Uh-oh! You encountered a red alien.\")\n",
        "    points_earned = 0  # No points for red aliens\n",
        "\n",
        "# Check if the player earned any points\n",
        "if points_earned > 0:\n",
        "    print(f\"You have a total of {points_earned} points.\")\n",
        "else:\n",
        "    print(\"You didn't earn any points this time.\")"
      ],
      "metadata": {
        "colab": {
          "base_uri": "https://localhost:8080/"
        },
        "id": "F6HlVjE-CCKb",
        "outputId": "6ced7050-9875-49dc-c302-d53b58b2618d"
      },
      "execution_count": 110,
      "outputs": [
        {
          "output_type": "stream",
          "name": "stdout",
          "text": [
            "Congratulations! You just earned 5 points for shooting down a green alien.\n",
            "You have a total of 5 points.\n"
          ]
        }
      ]
    },
    {
      "cell_type": "markdown",
      "source": [
        "Version 2"
      ],
      "metadata": {
        "id": "Lp-LhrsCCByI"
      }
    },
    {
      "cell_type": "code",
      "source": [
        "# Prompt the user to choose the alien's color\n",
        "alien_color = input(\"Choose the alien's color that you shoot (green, yellow, red): \")\n",
        "\n",
        "# Define points for different alien colors\n",
        "points_earned = 0\n",
        "\n",
        "# Check if the chosen alien's color is green and award points\n",
        "if alien_color == 'green':\n",
        "    points_earned = 5\n",
        "    print(\"Congratulations! You just earned 5 points for shooting down a green alien.\")\n",
        "elif alien_color == 'yellow':\n",
        "    points_earned = 10\n",
        "    print(\"Congratulations! You just earned 10 points for shooting down a yellow alien.\")\n",
        "elif alien_color == 'red':\n",
        "    points_earned = 15\n",
        "    print(\"Congratulations! You just earned 15 points for shooting down a red alien.\")\n",
        "else:\n",
        "    print(\"Unknown alien color. No points awarded.\")\n",
        "\n",
        "# Check if the player earned any points\n",
        "if points_earned > 0:\n",
        "    print(f\"You have a total of {points_earned} points.\")\n",
        "else:\n",
        "    print(\"You didn't earn any points this time.\")"
      ],
      "metadata": {
        "id": "59hV4Yb2Bty8"
      },
      "execution_count": null,
      "outputs": []
    },
    {
      "cell_type": "markdown",
      "source": [
        "Exercise 2 Improvements"
      ],
      "metadata": {
        "id": "YP98RgMODBVR"
      }
    },
    {
      "cell_type": "code",
      "source": [
        "# Define point values for each alien color\n",
        "point_values = {\n",
        "    'green': 5,\n",
        "    'yellow': 10,\n",
        "    'red': 15\n",
        "}\n",
        "\n",
        "# Get the alien's color from the user\n",
        "alien_color = input(\"Choose the alien's color (green, yellow, or red): \").lower()\n",
        "\n",
        "# Check if the chosen alien's color is valid\n",
        "if alien_color in point_values:\n",
        "    points_earned = point_values[alien_color]\n",
        "    print(f\"Congratulations! You just earned {points_earned} points for shooting the {alien_color} alien.\")\n",
        "else:\n",
        "    print(\"Unknown alien color. No points awarded.\")"
      ],
      "metadata": {
        "id": "Tx2NiT5QCskx"
      },
      "execution_count": null,
      "outputs": []
    },
    {
      "cell_type": "markdown",
      "source": [
        "Exercise 3 Improvements"
      ],
      "metadata": {
        "id": "bljB4W-_DTV1"
      }
    },
    {
      "cell_type": "markdown",
      "source": [
        "Version 1"
      ],
      "metadata": {
        "id": "Tb_WKJT3DVwQ"
      }
    },
    {
      "cell_type": "code",
      "source": [
        "# Define a dictionary with point values for each alien color\n",
        "point_values = {\n",
        "    'green': 5,\n",
        "    'yellow': 10,\n",
        "    'red': 15,\n",
        "}\n",
        "\n",
        "# Set the alien's color\n",
        "alien_color = 'green'\n",
        "\n",
        "# Check if the alien's color is in the point_values dictionary\n",
        "if alien_color in point_values:\n",
        "    points_earned = point_values[alien_color]\n",
        "    print(f\"Congratulations! You just earned {points_earned} points for shooting the {alien_color} alien.\")\n",
        "else:\n",
        "    print(\"Unknown alien color. No points awarded.\")"
      ],
      "metadata": {
        "colab": {
          "base_uri": "https://localhost:8080/"
        },
        "id": "JWnY43VVDXAP",
        "outputId": "9f8a996e-8095-48c0-d465-0ca6a178e4c2"
      },
      "execution_count": 117,
      "outputs": [
        {
          "output_type": "stream",
          "name": "stdout",
          "text": [
            "Congratulations! You just earned 5 points for shooting the green alien.\n"
          ]
        }
      ]
    },
    {
      "cell_type": "markdown",
      "source": [
        "Version 2"
      ],
      "metadata": {
        "id": "5F0dOMdBDgXg"
      }
    },
    {
      "cell_type": "code",
      "source": [
        "# Define a dictionary with point values for each alien color\n",
        "point_values = {\n",
        "    'green': 5,\n",
        "    'yellow': 10,\n",
        "    'red': 15,\n",
        "}\n",
        "\n",
        "# Set the alien's color\n",
        "alien_color = 'yellow'\n",
        "\n",
        "# Check if the alien's color is in the point_values dictionary\n",
        "if alien_color in point_values:\n",
        "    points_earned = point_values[alien_color]\n",
        "    print(f\"Congratulations! You just earned {points_earned} points for shooting the {alien_color} alien.\")\n",
        "else:\n",
        "    print(\"Unknown alien color. No points awarded.\")"
      ],
      "metadata": {
        "colab": {
          "base_uri": "https://localhost:8080/"
        },
        "id": "ZXWyZ3H_Dhnh",
        "outputId": "b0271b47-ad45-4439-ba95-6e45e944e0e8"
      },
      "execution_count": 118,
      "outputs": [
        {
          "output_type": "stream",
          "name": "stdout",
          "text": [
            "Congratulations! You just earned 10 points for shooting the yellow alien.\n"
          ]
        }
      ]
    },
    {
      "cell_type": "markdown",
      "source": [
        "Version 3"
      ],
      "metadata": {
        "id": "9eZes8D7DyGp"
      }
    },
    {
      "cell_type": "code",
      "source": [
        "# Define a dictionary with point values for each alien color\n",
        "point_values = {\n",
        "    'green': 5,\n",
        "    'yellow': 10,\n",
        "    'red': 15,\n",
        "}\n",
        "\n",
        "# Set the alien's color\n",
        "alien_color = 'red'\n",
        "\n",
        "# Check if the alien's color is in the point_values dictionary\n",
        "if alien_color in point_values:\n",
        "    points_earned = point_values[alien_color]\n",
        "    print(f\"Congratulations! You just earned {points_earned} points for shooting the {alien_color} alien.\")\n",
        "else:\n",
        "    print(\"Unknown alien color. No points awarded.\")"
      ],
      "metadata": {
        "id": "Ga6BhUuBDzTB"
      },
      "execution_count": null,
      "outputs": []
    },
    {
      "cell_type": "markdown",
      "source": [
        "Exercise 4 Improvements"
      ],
      "metadata": {
        "id": "_cUIbaMYEDCA"
      }
    },
    {
      "cell_type": "code",
      "source": [
        "# Set the person's age\n",
        "age = int(input(\"Enter the person's age: \"))\n",
        "\n",
        "# Determine the person's stage of life\n",
        "if age < 1:\n",
        "    print(\"The person is an infant.\")\n",
        "elif age < 3:\n",
        "    print(\"The person is a toddler.\")\n",
        "elif age < 6:\n",
        "    print(\"The person is a preschooler.\")\n",
        "elif age < 12:\n",
        "    print(\"The person is a preteen.\")\n",
        "elif age < 18:\n",
        "    print(\"The person is a teenager.\")\n",
        "elif age < 30:\n",
        "    print(\"The person is a young adult.\")\n",
        "elif age < 50:\n",
        "    print(\"The person is a middle-aged adult.\")\n",
        "else:\n",
        "    print(\"The person is a senior citizen.\")"
      ],
      "metadata": {
        "id": "1qqr_OMEEFFC"
      },
      "execution_count": null,
      "outputs": []
    },
    {
      "cell_type": "markdown",
      "source": [
        "Exercise 5 Improvements"
      ],
      "metadata": {
        "id": "ZxeMsFlbEWgV"
      }
    },
    {
      "cell_type": "code",
      "source": [
        "# Make a list of your favorite fruits\n",
        "favorite_fruits = [\"apple\", \"mango\", \"strawberry\", \"banana\", \"kiwi\", \"blueberry\"]\n",
        "\n",
        "# Define a dictionary with messages for each fruit\n",
        "fruit_messages = {\n",
        "    \"apple\": \"You really like apples!\",\n",
        "    \"mango\": \"You absolutely love mangoes!\",\n",
        "    \"strawberry\": \"You have a sweet spot for strawberries!\",\n",
        "    \"banana\": \"Bananas are your all-time favorite!\",\n",
        "    \"kiwi\": \"Kiwi is your go-to fruit!\",\n",
        "    \"blueberry\": \"Blueberries are a must-have for you!\"\n",
        "}\n",
        "\n",
        "# Ask the user to input their favorite fruits, separated by commas\n",
        "user_favorite_fruits = input(\"Enter your favorite fruits (comma-separated): \").lower().split(',')\n",
        "\n",
        "# Remove leading and trailing whitespace from each fruit\n",
        "user_favorite_fruits = [fruit.strip() for fruit in user_favorite_fruits]\n",
        "\n",
        "# Initialize a list to store messages for each fruit\n",
        "messages = []\n",
        "\n",
        "# Check if each of the user's favorite fruits is in the list and add messages\n",
        "for fruit in user_favorite_fruits:\n",
        "    if fruit in favorite_fruits:\n",
        "        messages.append(fruit_messages[fruit])\n",
        "    else:\n",
        "        messages.append(f\"Sorry, we don't have a message for {fruit}.\")\n",
        "\n",
        "# Print the messages for each favorite fruit\n",
        "for message in messages:\n",
        "    print(message)"
      ],
      "metadata": {
        "id": "NyAZMH3xEYSP"
      },
      "execution_count": null,
      "outputs": []
    },
    {
      "cell_type": "markdown",
      "source": [
        "Chapter 5: Dictionaries"
      ],
      "metadata": {
        "id": "c9zV4Bg0FSIF"
      }
    },
    {
      "cell_type": "markdown",
      "source": [
        "Exercise 1: Person\n",
        "\n",
        "Use a dictionary to store information about a person you know.Store their first name, last name, age, and the city in which they live. You\n",
        "\n",
        "should have keys such as first_name, last_name, age, and city. Print each piece of information stored in your dictionary.\n"
      ],
      "metadata": {
        "id": "Vak_I-3jFW-M"
      }
    },
    {
      "cell_type": "code",
      "source": [
        "# Create a dictionary to store information about a person\n",
        "person_info = {\n",
        "    \"first_name\": \"Anthony\",\n",
        "    \"last_name\": \"Dela Cruz\",\n",
        "    \"age\": 20,\n",
        "    \"Emirate\": \"Dubai\"\n",
        "}\n",
        "\n",
        "# Print each piece of information\n",
        "print(\"First Name:\", person_info[\"first_name\"])\n",
        "print(\"Last Name:\", person_info[\"last_name\"])\n",
        "print(\"Age:\", person_info[\"age\"])\n",
        "print(\"Emirate:\", person_info[\"Emirate\"])"
      ],
      "metadata": {
        "id": "CkhGZDdBFltV"
      },
      "execution_count": null,
      "outputs": []
    },
    {
      "cell_type": "markdown",
      "source": [
        "Exercise 2: Glossary\n",
        "\n",
        "A Python dictionary can be used to model an actual dictionary. However, to avoid confusion, let’s call it a glossary.\n",
        "\n",
        "* Think of five programming words you’ve learned about in the previous chapters. Use these words as the keys in your glossary, and store\n",
        "\n",
        "their meanings as values.\n",
        "\n",
        "* Print each word and its meaning as neatly formatted output. You might print the word followed by a colon and then its meaning, or print\n",
        "\n",
        "the word on one line and then print its meaning indented on a second line. Use the newline character (\\n) to insert a blank line between\n",
        "\n",
        "each word-meaning pair in your output."
      ],
      "metadata": {
        "id": "1Stu5IBDF0C9"
      }
    },
    {
      "cell_type": "code",
      "source": [
        "# Create a glossary of programming terms\n",
        "glossary = {\n",
        "    \"variable\": \"A container for storing data in a program.\",\n",
        "    \"function\": \"A reusable block of code that performs a specific task.\",\n",
        "    \"loop\": \"A control structure that repeats a set of instructions as long as a condition is met.\",\n",
        "    \"list\": \"A collection of ordered and mutable elements.\",\n",
        "    \"dictionary\": \"A collection of key-value pairs.\"\n",
        "}\n",
        "\n",
        "while True:\n",
        "    # Print a list of available terms\n",
        "    print(\"Available terms:\")\n",
        "    for word in glossary.keys():\n",
        "        print(word)\n",
        "\n",
        "    # Ask the user to pick a term or exit\n",
        "    chosen_term = input(\"Enter the term you want to learn more about, or type 'stop' to exit: \")\n",
        "\n",
        "    # Check if the user wants to exit\n",
        "    if chosen_term.lower() == 'stop':\n",
        "        break\n",
        "\n",
        "    # Check if the chosen term is in the glossary and print its meaning\n",
        "    if chosen_term in glossary:\n",
        "        print(f\"{chosen_term}:\\n{glossary[chosen_term]}\")\n",
        "    else:\n",
        "        print(\"Sorry, that term is not in the glossary.\")"
      ],
      "metadata": {
        "colab": {
          "base_uri": "https://localhost:8080/"
        },
        "id": "hntMwcF_F45P",
        "outputId": "72a7f123-c4ef-46d6-9b56-2893b3ca4340"
      },
      "execution_count": 203,
      "outputs": [
        {
          "name": "stdout",
          "output_type": "stream",
          "text": [
            "Available terms:\n",
            "variable\n",
            "function\n",
            "loop\n",
            "list\n",
            "dictionary\n",
            "Enter the term you want to learn more about, or type 'stop' to exit: stop\n"
          ]
        }
      ]
    },
    {
      "cell_type": "markdown",
      "source": [
        "Exercise 3: Glossary 2\n",
        "Now that you know how to loop through a dictionary, clean up the code from Exercise 6-3 (page 99) by replacing your series of print()\n",
        "\n",
        "calls with a loop that runs through the dictionary’s keys and values. When you’re sure that your loop works, add five more Python terms\n",
        "\n",
        "to your glossary.When you run your program again, these new words and meanings should automatically be included in the output."
      ],
      "metadata": {
        "id": "0meLAbaSGJzI"
      }
    },
    {
      "cell_type": "code",
      "source": [
        "# Create an initial glossary of programming terms\n",
        "glossary = {\n",
        "    \"variable\": \"A container for storing data in a program.\",\n",
        "    \"function\": \"A reusable block of code that performs a specific task.\",\n",
        "    \"loop\": \"A control structure that repeats a set of instructions as long as a condition is met.\",\n",
        "    \"list\": \"A collection of ordered and mutable elements.\",\n",
        "    \"dictionary\": \"A collection of key-value pairs.\"\n",
        "}\n",
        "\n",
        "# Function to print glossary terms\n",
        "def print_glossary(glossary):\n",
        "    for word, meaning in glossary.items():\n",
        "        print(f\"{word}:\\n{meaning}\\n\")\n",
        "\n",
        "# Print the glossary using the print_glossary function\n",
        "print(\"Initial Glossary:\")\n",
        "print_glossary(glossary)\n",
        "\n",
        "# Add five more Python terms to the glossary\n",
        "glossary[\"string\"] = \"A sequence of characters.\"\n",
        "glossary[\"module\"] = \"A Python script containing useful functions and variables.\"\n",
        "glossary[\"tuple\"] = \"An ordered, immutable collection of elements.\"\n",
        "glossary[\"conditional statement\"] = \"A statement that performs different actions depending on whether a condition is true or false.\"\n",
        "glossary[\"exception\"] = \"An error that occurs during the execution of a program.\"\n",
        "\n",
        "# Print the updated glossary using the same function\n",
        "print(\"Updated Glossary:\")\n",
        "print_glossary(glossary)\n",
        "\n",
        "# User interaction to pick a term and display its meaning\n",
        "while True:\n",
        "    term = input(\"Enter a programming term to get its meaning (or 'stop' to exit): \")\n",
        "\n",
        "    if term.lower() == 'stop':\n",
        "        break\n",
        "\n",
        "    meaning = glossary.get(term)\n",
        "    if meaning:\n",
        "        print(f\"Definition of '{term}':\\n{meaning}\")\n",
        "    else:\n",
        "        print(f\"Term '{term}' not found in the glossary.\")"
      ],
      "metadata": {
        "id": "eboLAZqQGNwJ"
      },
      "execution_count": null,
      "outputs": []
    },
    {
      "cell_type": "markdown",
      "source": [
        "# Exercise 4: Rivers\n",
        "\n",
        "Make a dictionary containing three major rivers and the country each river runs through. One key-value pair might be 'nile': 'egypt'.\n",
        "\n",
        "* Use a loop to print a sentence about each river, such as The Nile runs through Egypt.\n",
        "\n",
        "* Use a loop to print the name of each river included in the dictionary.\n",
        "\n",
        "* Use a loop to print the name of each country included in the dictionary."
      ],
      "metadata": {
        "id": "PZtxHqpVJRJh"
      }
    },
    {
      "cell_type": "code",
      "source": [
        "# Create a dictionary of rivers and the countries they run through\n",
        "rivers = {\n",
        "    \"Nile\": \"Egypt\",\n",
        "    \"Amazon\": \"Brazil\",\n",
        "    \"Mississippi River\": \"U.S.A\",\n",
        "    \"Yellow River\": \"China\"\n",
        "}\n",
        "\n",
        "# Print a sentence about each river\n",
        "for river, country in rivers.items():\n",
        "    print(f\"The {river} runs through {country}.\")\n",
        "\n",
        "# Print the names of the rivers\n",
        "print(\"\\nRivers:\")\n",
        "for river in rivers.keys():\n",
        "    print(river)\n",
        "\n",
        "# Print the names of the countries\n",
        "print(\"\\nCountries:\")\n",
        "for country in rivers.values():\n",
        "    print(country)"
      ],
      "metadata": {
        "id": "kF5rHnUuJdWh"
      },
      "execution_count": null,
      "outputs": []
    },
    {
      "cell_type": "markdown",
      "source": [
        "Exercise 5: Pets\n",
        "\n",
        "Make several dictionaries, where each dictionary represents a different pet. In each dictionary, include the kind of animal and the\n",
        "\n",
        "owner’s name. Store these dictionaries in a list called pets. Next, loop through your list and asyou do, print everything you know about\n",
        "\n",
        "each pet"
      ],
      "metadata": {
        "id": "WM28cnINNYUZ"
      }
    },
    {
      "cell_type": "code",
      "source": [
        "# Create dictionaries for different pets\n",
        "pet1 = {\"kind\": \"dog\", \"owner\": \"Anthony\"}\n",
        "pet2 = {\"kind\": \"cat\", \"owner\": \"Roan\"}\n",
        "pet3 = {\"kind\": \"falcon\", \"owner\": \"Christian\"}\n",
        "\n",
        "# Store the dictionaries in a list called pets\n",
        "pets = [pet1, pet2, pet3]\n",
        "\n",
        "# Loop through the list and print information about each pet\n",
        "for pet in pets:\n",
        "    print(f\"Kind of Animal: {pet['kind']}\")\n",
        "    print(f\"Owner's Name: {pet['owner']}\")\n",
        "    print()  # Add a blank line to separate pet information"
      ],
      "metadata": {
        "id": "OzeFmNDUNlMl"
      },
      "execution_count": null,
      "outputs": []
    },
    {
      "cell_type": "markdown",
      "source": [
        "Extra codes 6-10 further imrpovements for the first 5 exercises"
      ],
      "metadata": {
        "id": "c54YnCHHNweF"
      }
    },
    {
      "cell_type": "markdown",
      "source": [
        "Improvements for chapter 5 exercise 1"
      ],
      "metadata": {
        "id": "kdQyu1pEOj0i"
      }
    },
    {
      "cell_type": "code",
      "source": [
        "# Create a dictionary to store information about a person\n",
        "person_info = {\n",
        "    \"first_name\": \"Anthony\",\n",
        "    \"last_name\": \"Dela Cruz\",\n",
        "    \"age\": 20,\n",
        "    \"city\": \"Dubai\",\n",
        "    \"email\": \"anthony06878@gmail.com\",\n",
        "    \"phone\": \"+971586827548\",\n",
        "    \"hobbies\": [\"sports\", \"coding\", \"gym\"],\n",
        "    \"languages\": {\"primary\": \"Tagalog\", \"secondary\": \"English\"},\n",
        "}\n",
        "\n",
        "# Loop through the dictionary and print each piece of information\n",
        "for key, value in person_info.items():\n",
        "    if isinstance(value, list):\n",
        "        # If the value is a list, join its elements into a single string\n",
        "        value = \", \".join(value)\n",
        "    elif isinstance(value, dict):\n",
        "        # If the value is a dictionary, format it nicely\n",
        "        value = \", \".join([f\"{k}: {v}\" for k, v in value.items()])\n",
        "    print(f\"{key.capitalize()}: {value}\")"
      ],
      "metadata": {
        "id": "sE6syof6N2Vq"
      },
      "execution_count": null,
      "outputs": []
    },
    {
      "cell_type": "markdown",
      "source": [
        "Improvements for chapter 5 exercise 2"
      ],
      "metadata": {
        "id": "plDDWxSUOrkd"
      }
    },
    {
      "cell_type": "code",
      "source": [
        "# Create a glossary of programming terms\n",
        "glossary = {\n",
        "    \"variable\": \"A container for storing data in a program.\",\n",
        "    \"function\": \"A reusable block of code that performs a specific task.\",\n",
        "    \"loop\": \"A control structure that repeats a set of instructions as long as a condition is met.\",\n",
        "    \"list\": \"A collection of ordered and mutable elements.\",\n",
        "    \"dictionary\": \"A collection of key-value pairs.\",\n",
        "    \"string\": \"A sequence of characters.\",\n",
        "    \"module\": \"A Python script containing useful functions and variables.\",\n",
        "    \"tuple\": \"An ordered, immutable collection of elements.\",\n",
        "    \"conditional statement\": \"A statement that performs different actions depending on whether a condition is true or false.\",\n",
        "    \"exception\": \"An error that occurs during the execution of a program.\",\n",
        "}\n",
        "\n",
        "while True:\n",
        "    # Print a list of available terms\n",
        "    print(\"Available terms:\")\n",
        "    for word in glossary.keys():\n",
        "        print(word)\n",
        "\n",
        "    # Ask the user to pick a term or exit\n",
        "    chosen_term = input(\"Enter the term you want to learn more about, or type 'stop' to exit: \")\n",
        "\n",
        "    # Check if the user wants to exit\n",
        "    if chosen_term.lower() == 'stop':\n",
        "        break\n",
        "\n",
        "    # Check if the chosen term is in the glossary and print its meaning\n",
        "    if chosen_term in glossary:\n",
        "        print(f\"{chosen_term}:\\n{glossary[chosen_term]}\\n\")\n",
        "    else:\n",
        "        print(\"Sorry, that term is not in the glossary.\\n\")"
      ],
      "metadata": {
        "id": "5ieaQHsvOi3o"
      },
      "execution_count": null,
      "outputs": []
    },
    {
      "cell_type": "markdown",
      "source": [
        "Improvements for chapter 5 exercise 3"
      ],
      "metadata": {
        "id": "VX9o-xY8PIzP"
      }
    },
    {
      "cell_type": "code",
      "source": [
        "# Create an initial glossary of programming terms\n",
        "glossary = {\n",
        "    \"variable\": \"A container for storing data in a program.\",\n",
        "    \"function\": \"A reusable block of code that performs a specific task.\",\n",
        "    \"loop\": \"A control structure that repeats a set of instructions as long as a condition is met.\",\n",
        "    \"list\": \"A collection of ordered and mutable elements.\",\n",
        "    \"dictionary\": \"A collection of key-value pairs.\"\n",
        "}\n",
        "\n",
        "# Function to print glossary terms\n",
        "def print_glossary(glossary):\n",
        "    for word, meaning in glossary.items():\n",
        "        print(f\"{word}:\\n{meaning}\\n\")\n",
        "\n",
        "# Function to add a new term and meaning to the glossary\n",
        "def add_to_glossary(glossary):\n",
        "    term = input(\"Enter a new programming term: \")\n",
        "    meaning = input(f\"Enter the meaning of '{term}': \")\n",
        "    glossary[term] = meaning\n",
        "    print(f\"'{term}' has been added to the glossary.\")\n",
        "\n",
        "# Add five more Python terms to the glossary\n",
        "glossary[\"string\"] = \"A sequence of characters.\"\n",
        "glossary[\"module\"] = \"A Python script containing useful functions and variables.\"\n",
        "glossary[\"tuple\"] = \"An ordered, immutable collection of elements.\"\n",
        "glossary[\"conditional statement\"] = \"A statement that performs different actions depending on whether a condition is true or false.\"\n",
        "glossary[\"exception\"] = \"An error that occurs during the execution of a program.\"\n",
        "\n",
        "# Print the glossary using the print_glossary function\n",
        "print(\"Initial Glossary:\")\n",
        "print_glossary(glossary)\n",
        "\n",
        "# User interaction to pick a term, add a term, or exit\n",
        "while True:\n",
        "    choice = input(\"Choose an option: (1) Look up a term (2) Add a term (3) Exit: \")\n",
        "\n",
        "    if choice == '1':\n",
        "        term = input(\"Enter a programming term to get its meaning: \")\n",
        "        meaning = glossary.get(term)\n",
        "        if meaning:\n",
        "            print(f\"Definition of '{term}':\\n{meaning}\")\n",
        "        else:\n",
        "            print(f\"Term '{term}' not found in the glossary.\")\n",
        "    elif choice == '2':\n",
        "        add_to_glossary(glossary)\n",
        "    elif choice == '3':\n",
        "        break\n",
        "    else:\n",
        "        print(\"Invalid choice. Please choose 1, 2, or 3.\")"
      ],
      "metadata": {
        "id": "CbdPC_vlPMAQ"
      },
      "execution_count": null,
      "outputs": []
    },
    {
      "cell_type": "markdown",
      "source": [
        "Improvements for chapter 5 exercise 4"
      ],
      "metadata": {
        "id": "twVZQZN8RIAC"
      }
    },
    {
      "cell_type": "code",
      "source": [
        "# Create a dictionary of rivers and the countries they run through\n",
        "rivers = {\n",
        "    \"Nile\": \"Egypt\",\n",
        "    \"Amazon\": \"Brazil\",\n",
        "    \"Mississippi River\": \"U.S.A\",\n",
        "    \"Yellow River\": \"China\",\n",
        "    \"Danube\": \"Multiple European Countries\",\n",
        "    \"Volga\": \"Russia\",\n",
        "    \"Mekong\": \"Vietnam, Cambodia, Laos, Thailand, China, Myanmar\",\n",
        "    \"Yangtze\": \"China\",\n",
        "    \"Congo\": \"Democratic Republic of the Congo\",\n",
        "}\n",
        "\n",
        "# Function to look up information about a river\n",
        "def lookup_river_info(river_name):\n",
        "    if river_name in rivers:\n",
        "        country = rivers[river_name]\n",
        "        print(f\"The {river_name} runs through {country}.\")\n",
        "    else:\n",
        "        print(f\"The {river_name} is not in the database.\")\n",
        "\n",
        "# Function to look up information about a country\n",
        "def lookup_country_info(country_name):\n",
        "    rivers_in_country = [river for river, country in rivers.items() if country == country_name]\n",
        "    if rivers_in_country:\n",
        "        print(f\"The following rivers run through {country_name}:\")\n",
        "        for river in rivers_in_country:\n",
        "            print(river)\n",
        "    else:\n",
        "        print(f\"No rivers in the database run through {country_name}.\")\n",
        "\n",
        "# Print a sentence about each river\n",
        "print(\"Rivers and Countries:\")\n",
        "for river, country in rivers.items():\n",
        "    print(f\"The {river} runs through {country}.\")\n",
        "\n",
        "while True:\n",
        "    choice = input(\"\\nChoose an option: (1) Look up a river (2) Look up a country (3) Exit: \")\n",
        "\n",
        "    if choice == '1':\n",
        "        river_name = input(\"Enter the name of the river you want to look up: \")\n",
        "        lookup_river_info(river_name)\n",
        "    elif choice == '2':\n",
        "        country_name = input(\"Enter the name of the country you want to look up: \")\n",
        "        lookup_country_info(country_name)\n",
        "    elif choice == '3':\n",
        "        break\n",
        "    else:\n",
        "        print(\"Invalid choice. Please choose 1, 2, or 3.\")"
      ],
      "metadata": {
        "id": "TS4g3WrKRLo4"
      },
      "execution_count": null,
      "outputs": []
    },
    {
      "cell_type": "markdown",
      "source": [
        "Improvements for Chapter 5 exercise 5"
      ],
      "metadata": {
        "id": "1O1Lza_ASIDv"
      }
    },
    {
      "cell_type": "code",
      "source": [
        "# Create an empty list to store pet dictionaries\n",
        "pets = []\n",
        "\n",
        "# Function to add a new pet to the list\n",
        "def add_pet():\n",
        "    kind = input(\"Enter the kind of animal: \")\n",
        "    owner = input(\"Enter the owner's name: \")\n",
        "    pet = {\"kind\": kind, \"owner\": owner}\n",
        "    pets.append(pet)\n",
        "    print(f\"{kind} owned by {owner} has been added to the list.\")\n",
        "\n",
        "# Function to display information about all pets\n",
        "def display_pets():\n",
        "    print(\"List of Pets:\")\n",
        "    for i, pet in enumerate(pets, start=1):\n",
        "        print(f\"Pet {i}:\")\n",
        "        print(f\"Kind of Animal: {pet['kind']}\")\n",
        "        print(f\"Owner's Name: {pet['owner']}\")\n",
        "        print()\n",
        "\n",
        "# User interaction to add and display pets\n",
        "while True:\n",
        "    choice = input(\"Choose an option: (1) Add a pet (2) Display pets (3) Exit: \")\n",
        "\n",
        "    if choice == '1':\n",
        "        add_pet()\n",
        "    elif choice == '2':\n",
        "        display_pets()\n",
        "    elif choice == '3':\n",
        "        break\n",
        "    else:\n",
        "        print(\"Invalid choice. Please choose 1, 2, or 3.\")"
      ],
      "metadata": {
        "id": "O4pwR5JISLMn"
      },
      "execution_count": null,
      "outputs": []
    },
    {
      "cell_type": "markdown",
      "source": [
        "Chapter 6: Loops"
      ],
      "metadata": {
        "id": "16bi8lUkSvO3"
      }
    },
    {
      "cell_type": "markdown",
      "source": [
        "Exercise 1: Pizza Toppings\n",
        "\n",
        "Write a loop that prompts the user to enter a series of pizza toppings until they enter a 'quit' value. As they enter each topping,\n",
        "\n",
        "print a message saying you’ll add that topping to their pizza."
      ],
      "metadata": {
        "id": "CeLhd9EiS3I1"
      }
    },
    {
      "cell_type": "code",
      "source": [
        "# Initialize an empty list to store pizza toppings\n",
        "pizza_toppings = []\n",
        "\n",
        "# Start an input loop\n",
        "while True:\n",
        "    topping = input(\"Enter a pizza topping (or 'stop' to finish adding toppings): \")\n",
        "\n",
        "    # Check if the user wants to quit\n",
        "    if topping.lower() == 'quit':\n",
        "        break\n",
        "\n",
        "    # Add the topping to the list and print a message\n",
        "    pizza_toppings.append(topping)\n",
        "    print(f\"Adding {topping} to your pizza.\")\n",
        "\n",
        "# Print the final list of pizza toppings\n",
        "print(\"\\nYour pizza will have the following toppings:\")\n",
        "for topping in pizza_toppings:\n",
        "    print(topping)"
      ],
      "metadata": {
        "id": "cYbEU8j4S1gw"
      },
      "execution_count": null,
      "outputs": []
    },
    {
      "cell_type": "markdown",
      "source": [
        "Exercise 2: Movie Tickets:\n",
        "\n",
        "A movie theater charges different ticket prices depending on a person's age. If a person is under the age of 3, the ticket is free; if\n",
        "\n",
        "they are between 3 and 12, the ticket is $10; and if they are over age 12, the ticket is $15. Write a loop in which you ask users their\n",
        "\n",
        "age, and then tell them the cost of their movie ticket\n",
        "\n",
        "\n"
      ],
      "metadata": {
        "id": "9vq7sQ8VSvMp"
      }
    },
    {
      "cell_type": "code",
      "source": [
        "while True:\n",
        "    try:\n",
        "        age = int(input(\"Please enter your age (or type '0' to quit): \"))\n",
        "\n",
        "        if age == 0:\n",
        "            print(\"Exiting the ticket pricing program. Have a great day!\")\n",
        "            break\n",
        "        elif age < 3:\n",
        "            print(\"Your ticket is free.\")\n",
        "        elif 3 <= age <= 12:\n",
        "            print(\"Your ticket costs $10.\")\n",
        "        else:\n",
        "            print(\"Your ticket costs $15.\")\n",
        "    except ValueError:\n",
        "        print(\"Invalid input. Please enter a valid age or '0' to exit.\")"
      ],
      "metadata": {
        "id": "B6wHC4r8TVoF"
      },
      "execution_count": null,
      "outputs": []
    },
    {
      "cell_type": "markdown",
      "source": [
        "Exercise 3: Infinity\n",
        "\n",
        "Write a loop that never ends, and run it. (To end the loop, press ctrl-C or close the window displaying the output.)"
      ],
      "metadata": {
        "id": "dSbQBuqrUJ31"
      }
    },
    {
      "cell_type": "code",
      "source": [
        "while True:\n",
        "    pass"
      ],
      "metadata": {
        "id": "8swgSUd8UVwb"
      },
      "execution_count": null,
      "outputs": []
    },
    {
      "cell_type": "markdown",
      "source": [
        "Exercise 4: Deli\n",
        "\n",
        "Make a list called sandwich_orders and fill it with the names of various sandwiches. Then make an empty list called finished_sandwiches.\n",
        "\n",
        "Loop through the list of sandwich orders and print a message for each order, such as I made your tuna sandwich. As each sandwich is made,\n",
        "\n",
        "move it to the list of finished sandwiches. After all the sandwiches have been made, print a message listing each sandwich that was made."
      ],
      "metadata": {
        "id": "l-EK6cA3Uw0T"
      }
    },
    {
      "cell_type": "code",
      "source": [
        "# Make a list of sandwich orders\n",
        "sandwich_orders = [\"tuna\", \"turkey\", \"club\", \"pastrami\", \"egg\", \"ham\"]\n",
        "\n",
        "# Make an empty list for finished sandwiches\n",
        "finished_sandwiches = []\n",
        "\n",
        "# Loop through sandwich orders\n",
        "while sandwich_orders:\n",
        "    current_order = sandwich_orders.pop()\n",
        "    print(f\"I made your {current_order} sandwich.\")\n",
        "    finished_sandwiches.append(current_order)\n",
        "\n",
        "# Print the list of finished sandwiches\n",
        "print(\"\\nFinished Sandwiches:\")\n",
        "for sandwich in finished_sandwiches:\n",
        "    print(sandwich)"
      ],
      "metadata": {
        "id": "6Hb4Y8wSU021"
      },
      "execution_count": null,
      "outputs": []
    },
    {
      "cell_type": "markdown",
      "source": [
        "Exercise 5: No Pastrami\n",
        "\n",
        "Using the list sandwich_orders from Exercise 7-8, make sure the sandwich 'pastrami' appears in the list at least three times. Add code\n",
        "\n",
        "near the beginning of your program to print a message saying the deli has run out of pastrami, and then use a while loop to remove all\n",
        "\n",
        "occurrences of 'pastrami' from sandwich_orders. Make sure no pastrami sandwiches end up in finished_sandwiches."
      ],
      "metadata": {
        "id": "0N6GbtFwVJ--"
      }
    },
    {
      "cell_type": "code",
      "source": [
        "# Make a list of sandwich orders with 'pastrami' appearing at least three times\n",
        "sandwich_orders = [\"tuna\", \"turkey\", \"club\", \"pastrami\", \"veggie\", \"egg\", \"pastrami\", \"ham\"]\n",
        "\n",
        "# Make an empty list for finished sandwiches\n",
        "finished_sandwiches = []\n",
        "\n",
        "# Notify the deli has run out of pastrami\n",
        "print(\"Sorry, we've run out of pastrami sandwiches.\")\n",
        "\n",
        "# Remove all occurrences of 'pastrami' from sandwich_orders\n",
        "while \"pastrami\" in sandwich_orders:\n",
        "    sandwich_orders.remove(\"pastrami\")\n",
        "\n",
        "# Loop through remaining sandwich orders\n",
        "while sandwich_orders:\n",
        "    current_order = sandwich_orders.pop()\n",
        "    print(f\"I made your {current_order} sandwich.\")\n",
        "    finished_sandwiches.append(current_order)\n",
        "\n",
        "# Print the list of finished sandwiches\n",
        "print(\"\\nFinished Sandwiches:\")\n",
        "for sandwich in finished_sandwiches:\n",
        "    print(sandwich)"
      ],
      "metadata": {
        "id": "62eWFQqyVP49"
      },
      "execution_count": null,
      "outputs": []
    },
    {
      "cell_type": "markdown",
      "source": [
        "Bonus 6-10 adjustments with the codes listed above"
      ],
      "metadata": {
        "id": "awX9dO_fVg0V"
      }
    },
    {
      "cell_type": "markdown",
      "source": [
        "Chapter 6 exercise 1 adjustments"
      ],
      "metadata": {
        "id": "1UZZwceaVoE8"
      }
    },
    {
      "cell_type": "code",
      "source": [
        "# Initialize an empty list to store pizza orders\n",
        "pizza_orders = []\n",
        "\n",
        "# Start an input loop to take pizza orders\n",
        "while True:\n",
        "    # Create an empty list to store toppings for the current pizza\n",
        "    pizza_toppings = []\n",
        "\n",
        "    # Get the customer's name for the order\n",
        "    customer_name = input(\"Enter your name (or 'stop' to finish ordering): \")\n",
        "\n",
        "    # Check if the customer wants to quit\n",
        "    if customer_name.lower() == 'stop':\n",
        "        break\n",
        "\n",
        "    # Get the type of pizza (e.g., 'Margherita', 'Pepperoni', etc.)\n",
        "    pizza_type = input(f\"Hi {customer_name}, what type of pizza would you like? \")\n",
        "\n",
        "    # Start an input loop to take pizza toppings for the current order\n",
        "    while True:\n",
        "        topping = input(f\"Enter a topping for your {pizza_type} pizza (or 'done' to finish): \")\n",
        "\n",
        "        # Check if the customer wants to finish adding toppings\n",
        "        if topping.lower() == 'done':\n",
        "            break\n",
        "\n",
        "        # Add the topping to the list for the current pizza\n",
        "        pizza_toppings.append(topping)\n",
        "        print(f\"Adding {topping} to your {pizza_type} pizza.\")\n",
        "\n",
        "    # Create a dictionary to represent the current pizza order\n",
        "    pizza_order = {\n",
        "        \"customer\": customer_name,\n",
        "        \"type\": pizza_type,\n",
        "        \"toppings\": pizza_toppings\n",
        "    }\n",
        "\n",
        "    # Add the pizza order to the list of pizza orders\n",
        "    pizza_orders.append(pizza_order)\n",
        "\n",
        "# Print the final list of pizza orders with toppings\n",
        "print(\"\\nPizza Orders:\")\n",
        "for order in pizza_orders:\n",
        "    print(f\"{order['customer']}'s {order['type']} pizza with toppings:\")\n",
        "    for topping in order['toppings']:\n",
        "        print(f\"- {topping}\")\n",
        "    print()  #"
      ],
      "metadata": {
        "id": "2v0ZxWr0VrOZ"
      },
      "execution_count": null,
      "outputs": []
    },
    {
      "cell_type": "markdown",
      "source": [
        "chapter 6 exercise 2 adjustments\n",
        "\n"
      ],
      "metadata": {
        "id": "5WRUbXjrbv09"
      }
    },
    {
      "cell_type": "code",
      "source": [
        "# Initialize variables to keep track of revenue and ticket counts\n",
        "total_revenue = 0\n",
        "child_tickets_sold = 0\n",
        "adult_tickets_sold = 0\n",
        "senior_tickets_sold = 0\n",
        "\n",
        "while True:\n",
        "    try:\n",
        "        age = int(input(\"Please enter your age (or type '0' to quit): \"))\n",
        "\n",
        "        if age == 0:\n",
        "            print(\"Exiting the ticket pricing program. Have a great day!\")\n",
        "            break\n",
        "        elif age < 3:\n",
        "            print(\"Your ticket is free.\")\n",
        "            total_revenue += 0\n",
        "        elif 3 <= age <= 12:\n",
        "            print(\"Your ticket costs $10.\")\n",
        "            total_revenue += 10\n",
        "            child_tickets_sold += 1\n",
        "        else:\n",
        "            print(\"Your ticket costs $15.\")\n",
        "            total_revenue += 15\n",
        "            adult_tickets_sold += 1\n",
        "    except ValueError:\n",
        "        print(\"Invalid input. Please enter a valid age or '0' to exit.\")\n",
        "\n",
        "# Print a summary of ticket sales and revenue\n",
        "print(\"\\nTicket Sales Summary:\")\n",
        "print(f\"Child tickets sold: {child_tickets_sold}\")\n",
        "print(f\"Adult tickets sold: {adult_tickets_sold}\")\n",
        "print(f\"Senior tickets sold: {senior_tickets_sold}\")\n",
        "print(f\"Total revenue: ${total_revenue}\")"
      ],
      "metadata": {
        "id": "O8zZVxEbbx_X"
      },
      "execution_count": null,
      "outputs": []
    },
    {
      "cell_type": "markdown",
      "source": [
        "Chapter 6 exercise 3 adjustment"
      ],
      "metadata": {
        "id": "cDq7d9NDe1A-"
      }
    },
    {
      "cell_type": "code",
      "source": [
        "while True:\n",
        "    user_input = input(\"Press 'q' to quit: \")\n",
        "\n",
        "    # Check if the user wants to exit\n",
        "    if user_input.lower() == 'q':\n",
        "        print(\"Exiting the loop.\")\n",
        "        break\n",
        "\n",
        "    # Your code here (the loop will continue until 'q' is pressed)\n",
        "    # ..."
      ],
      "metadata": {
        "id": "29uxsTINe0xV"
      },
      "execution_count": null,
      "outputs": []
    },
    {
      "cell_type": "markdown",
      "source": [
        "Chapter 6 exercise 4 Improvements"
      ],
      "metadata": {
        "id": "PP1bFNY_f-73"
      }
    },
    {
      "cell_type": "code",
      "source": [
        "# Create a dictionary to store sandwich types and their availability\n",
        "menu = {\n",
        "    \"tuna\": 5,\n",
        "    \"turkey\": 10,\n",
        "    \"club\": 7,\n",
        "    \"pastrami\": 3,\n",
        "    \"egg\": 8,\n",
        "    \"ham\": 12,\n",
        "}\n",
        "\n",
        "# Make an empty list for finished sandwiches\n",
        "finished_sandwiches = []\n",
        "\n",
        "# Create a list of unavailable items\n",
        "out_of_stock = []\n",
        "\n",
        "# Loop through sandwich orders\n",
        "while True:\n",
        "    print(\"Menu:\")\n",
        "    for item, stock in menu.items():\n",
        "        if item not in out_of_stock:\n",
        "            print(f\"{item.capitalize()}: {stock} available\")\n",
        "\n",
        "    current_order = input(\"Enter your sandwich order (or 'quit' to exit): \").lower()\n",
        "\n",
        "    # Check if the user wants to quit\n",
        "    if current_order == 'quit':\n",
        "        break\n",
        "\n",
        "    if current_order in menu:\n",
        "        if menu[current_order] > 0:\n",
        "            print(f\"I made your {current_order} sandwich.\")\n",
        "            finished_sandwiches.append(current_order)\n",
        "            menu[current_order] -= 1\n",
        "        else:\n",
        "            print(f\"Sorry, {current_order} is currently out of stock.\")\n",
        "            out_of_stock.append(current_order)\n",
        "    else:\n",
        "        print(f\"Sorry, we don't have {current_order} on the menu.\")\n",
        "\n",
        "# Print the list of finished sandwiches\n",
        "print(\"\\nFinished Sandwiches:\")\n",
        "for sandwich in finished_sandwiches:\n",
        "    print(sandwich.capitalize())"
      ],
      "metadata": {
        "id": "5AmPLVPagF8r"
      },
      "execution_count": null,
      "outputs": []
    },
    {
      "cell_type": "markdown",
      "source": [
        "Chapter 6 exercise 5 Improvements"
      ],
      "metadata": {
        "id": "_p_tTAPXgeqd"
      }
    },
    {
      "cell_type": "code",
      "source": [
        "# Create a dictionary to store sandwich types and their availability\n",
        "menu = {\n",
        "    \"tuna\": 5,\n",
        "    \"turkey\": 10,\n",
        "    \"club\": 7,\n",
        "    \"pastrami\": 0,\n",
        "    \"veggie\": 8,\n",
        "    \"egg\": 12,\n",
        "    \"ham\": 10,\n",
        "}\n",
        "\n",
        "# Make a list of sandwich orders with 'pastrami' appearing at least three times\n",
        "sandwich_orders = [\"tuna\", \"turkey\", \"club\", \"pastrami\", \"veggie\", \"egg\", \"pastrami\", \"ham\", \"pastrami\"]\n",
        "\n",
        "# Make an empty list for finished sandwiches\n",
        "finished_sandwiches = []\n",
        "\n",
        "# Create a list of unavailable items\n",
        "out_of_stock = []\n",
        "\n",
        "# Notify the deli has run out of pastrami\n",
        "print(\"Sorry, we've run out of pastrami sandwiches.\")\n",
        "\n",
        "# Remove all occurrences of 'pastrami' from sandwich_orders\n",
        "while \"pastrami\" in sandwich_orders:\n",
        "    sandwich_orders.remove(\"pastrami\")\n",
        "\n",
        "# Loop through remaining sandwich orders\n",
        "while True:\n",
        "    print(\"Menu:\")\n",
        "    for item, stock in menu.items():\n",
        "        if item not in out_of_stock:\n",
        "            print(f\"{item.capitalize()}: {stock} available\")\n",
        "\n",
        "    current_order = input(\"Enter your sandwich order (or 'quit' to exit): \").lower()\n",
        "\n",
        "    # Check if the user wants to quit\n",
        "    if current_order == 'quit':\n",
        "        break\n",
        "\n",
        "    if current_order in menu:\n",
        "        if menu[current_order] > 0:\n",
        "            print(f\"I made your {current_order} sandwich.\")\n",
        "            finished_sandwiches.append(current_order)\n",
        "            menu[current_order] -= 1\n",
        "        else:\n",
        "            print(f\"Sorry, {current_order} is currently out of stock.\")\n",
        "            out_of_stock.append(current_order)\n",
        "    else:\n",
        "        print(f\"Sorry, we don't have {current_order} on the menu.\")\n",
        "\n",
        "# Print the list of finished sandwiches\n",
        "print(\"\\nFinished Sandwiches:\")\n",
        "for sandwich in finished_sandwiches:\n",
        "    print(sandwich.capitalize())"
      ],
      "metadata": {
        "colab": {
          "base_uri": "https://localhost:8080/"
        },
        "id": "CGwX9Lp6ghLJ",
        "outputId": "e1c01a9b-6450-41c1-b4e6-0f35e6e30ab3"
      },
      "execution_count": 198,
      "outputs": [
        {
          "output_type": "stream",
          "name": "stdout",
          "text": [
            "Sorry, we've run out of pastrami sandwiches.\n",
            "Menu:\n",
            "Tuna: 5 available\n",
            "Turkey: 10 available\n",
            "Club: 7 available\n",
            "Pastrami: 0 available\n",
            "Veggie: 8 available\n",
            "Egg: 12 available\n",
            "Ham: 10 available\n",
            "Enter your sandwich order (or 'quit' to exit): quit\n",
            "\n",
            "Finished Sandwiches:\n"
          ]
        }
      ]
    },
    {
      "cell_type": "markdown",
      "source": [
        "Chapter 7: Functions"
      ],
      "metadata": {
        "id": "S_qoIgOVg-u_"
      }
    },
    {
      "cell_type": "markdown",
      "source": [
        "Exercise 1:   Message\n",
        "\n",
        "Write a function called display_message() that prints one sentence telling everyone what you are learning about in this chapter. Call the\n",
        "\n",
        "function, and make sure the message displays correctly."
      ],
      "metadata": {
        "id": "Q6tRstrxhHqG"
      }
    },
    {
      "cell_type": "code",
      "source": [
        "def display_message():\n",
        "    \"\"\"Display a message about what I'm learning in this chapter.\"\"\"\n",
        "    message = \"In this chapter, I'm learning about Python functions and how to use them.\"\n",
        "    print(message)\n",
        "\n",
        "# Call the function to display the message\n",
        "display_message()"
      ],
      "metadata": {
        "id": "FgB7t_jfhEW4"
      },
      "execution_count": null,
      "outputs": []
    },
    {
      "cell_type": "markdown",
      "source": [
        "Exercise 2: Favorite Book\n",
        "\n",
        "Write a function called favorite_book() that accepts one parameter, title. The function should print a message, such as One of my\n",
        "\n",
        "favorite books is Alice in Wonderland. Call the function, making sure to include a book title as an argument in the function call."
      ],
      "metadata": {
        "id": "42rKy4kZhVzo"
      }
    },
    {
      "cell_type": "code",
      "source": [
        "def favorite_book(title):\n",
        "    \"\"\"Print a message about a favorite book.\"\"\"\n",
        "    message = f\"One of my favorite books is {title}.\"\n",
        "    print(message)\n",
        "\n",
        "# Call the function with a book title as an argument\n",
        "favorite_book(\"Diary of a Wimpy Kid\")"
      ],
      "metadata": {
        "colab": {
          "base_uri": "https://localhost:8080/"
        },
        "id": "XID4rnDnhbOb",
        "outputId": "6a497b5d-01ba-4074-dda7-4b9277bae172"
      },
      "execution_count": 182,
      "outputs": [
        {
          "output_type": "stream",
          "name": "stdout",
          "text": [
            "One of my favorite books is Diary of a Wimpy Kid.\n"
          ]
        }
      ]
    },
    {
      "cell_type": "markdown",
      "source": [
        "Exercise 3: T-Shirt\n",
        "\n",
        "Write a function called make_shirt() that accepts a size and the text of a message that should be printed on the shirt. The function\n",
        "\n",
        "should print a sentence summarizing the size of the shirt and the message printed on it. Call the function once using positional\n",
        "\n",
        "arguments to make a shirt. Call the function a second time using keyword arguments."
      ],
      "metadata": {
        "id": "liC75zRhhrI2"
      }
    },
    {
      "cell_type": "code",
      "source": [
        "def make_shirt(size, message):\n",
        "    \"\"\"Prints a summary of the shirt size and message.\"\"\"\n",
        "    print(f\"Shirt size: {size}, Message: {message}\")\n",
        "\n",
        "# Calling the function with positional arguments\n",
        "make_shirt(\"Medium\", \"I love Bathspa!\")\n",
        "\n",
        "# Calling the function with keyword arguments\n",
        "make_shirt(size=\"Large\", message=\"Python issss fun!\")"
      ],
      "metadata": {
        "colab": {
          "base_uri": "https://localhost:8080/"
        },
        "id": "xr-5k6gIhrUF",
        "outputId": "b808b01b-0fa4-4079-c4b3-eb8082c763f9"
      },
      "execution_count": 176,
      "outputs": [
        {
          "output_type": "stream",
          "name": "stdout",
          "text": [
            "Shirt size: Medium, Message: I love Bathspa!\n",
            "Shirt size: Large, Message: Python issss fun!\n"
          ]
        }
      ]
    },
    {
      "cell_type": "markdown",
      "source": [
        "Exercise 4:\n",
        "\n",
        "Modify the make_shirt() function so that shirts are large by default with a message that reads I love Python. Make a large shirt and a\n",
        "\n",
        "medium shirt with the default message, and a shirt of any size with a different message."
      ],
      "metadata": {
        "id": "Dg9FcxIilG82"
      }
    },
    {
      "cell_type": "code",
      "source": [
        "def make_shirt(size=\"Large\", message=\"I love Python\"):\n",
        "    \"\"\"Prints a summary of the shirt size and message.\"\"\"\n",
        "    print(f\"Shirt size: {size}, Message: {message}\")\n",
        "\n",
        "# Making a large shirt with the default message\n",
        "make_shirt()\n",
        "\n",
        "# Making a medium shirt with the default message\n",
        "make_shirt(size=\"Medium\")\n",
        "\n",
        "# Making a custom-sized shirt with a different message\n",
        "make_shirt(size=\"Small\", message=\"Python is awesssssome!\")"
      ],
      "metadata": {
        "id": "5kj5fGrIlDf5"
      },
      "execution_count": null,
      "outputs": []
    },
    {
      "cell_type": "markdown",
      "source": [
        "Exercise 5: Cities\n",
        "\n",
        "Write a function called describe_city() that accepts the name of a city and its country. The function should print a simple sentence,\n",
        "\n",
        "such as Reykjavik is in Iceland. Give the parameter for the country a default value.\n",
        "\n",
        "Call your function for three different cities, at least one of which is not in the default country.\n"
      ],
      "metadata": {
        "id": "FtC0g-0ylmMz"
      }
    },
    {
      "cell_type": "code",
      "source": [
        "def describe_city(city, country=\"Unknown\"):\n",
        "    \"\"\"Prints a sentence describing a city and its country.\"\"\"\n",
        "    if country == \"Unknown\":\n",
        "        print(f\"Sorry, we don't have information about {city}.\")\n",
        "    else:\n",
        "        print(f\"{city} is located in {country}.\")\n",
        "\n",
        "# Call the function for three different cities\n",
        "describe_city(\"New York\", \"USA\")\n",
        "describe_city(\"London\", \"United Kingdom\")\n",
        "describe_city(\"Sydney\")"
      ],
      "metadata": {
        "id": "chuHa1TclmWu"
      },
      "execution_count": null,
      "outputs": []
    },
    {
      "cell_type": "markdown",
      "source": [
        "Extra codes for improvements or adjustments with the codes above"
      ],
      "metadata": {
        "id": "71S0R5vGmZK-"
      }
    },
    {
      "cell_type": "markdown",
      "source": [
        "Chapter 7 exercise 1"
      ],
      "metadata": {
        "id": "zDvVeQHAmfaT"
      }
    },
    {
      "cell_type": "code",
      "source": [
        "def display_message(topic, chapter_number):\n",
        "    \"\"\"Display a customized message about what I'm learning in a specific chapter.\"\"\"\n",
        "    message = f\"In Chapter {chapter_number}, I'm learning about {topic}.\"\n",
        "    print(message)\n",
        "\n",
        "# Call the function to display the message for different chapters\n",
        "display_message(\"Python Functions\", 1)\n",
        "display_message(\"Variables & Comments\", 2)\n",
        "display_message(\"Data Structures\", 3)"
      ],
      "metadata": {
        "id": "Y5fbwhLUmieS"
      },
      "execution_count": null,
      "outputs": []
    },
    {
      "cell_type": "markdown",
      "source": [
        "Chapter 7 exercise 2"
      ],
      "metadata": {
        "id": "a0mdPHX0nS38"
      }
    },
    {
      "cell_type": "code",
      "source": [
        "def favorite_book(title):\n",
        "    \"\"\"Print a message about one of my favorite books.\"\"\"\n",
        "    book_info = {\n",
        "        \"Diary of a Wimpy Kid\": {\n",
        "            \"author\": \"Jeff Kinney\",\n",
        "            \"genre\": \"Comedy\",\n",
        "            \"year\": 2007,\n",
        "        },\n",
        "        \"To Kill a Mockingbird\": {\n",
        "            \"author\": \"Harper Lee\",\n",
        "            \"genre\": \"Fiction\",\n",
        "            \"year\": 1960,\n",
        "        },\n",
        "        \"Beloved\": {\n",
        "            \"author\": \"Toni Morrison\",\n",
        "            \"genre\": \"Magical Realism\",\n",
        "            \"year\": 1987,\n",
        "        },\n",
        "    }\n",
        "\n",
        "    if title in book_info:\n",
        "        book = book_info[title]\n",
        "        message = f\"One of my favorite books is '{title}' by {book['author']} ({book['year']}), a {book['genre']} novel.\"\n",
        "    else:\n",
        "        message = f\"Sorry, I haven't read '{title}' yet.\"\n",
        "\n",
        "    print(message)\n",
        "\n",
        "# Call the function with different book titles\n",
        "favorite_book(\"Diary of a Wimpy Kid\")\n",
        "favorite_book(\"To Kill a Mockingbird\")\n",
        "favorite_book(\"Beloved\")\n",
        "favorite_book(\"Perfume: The Story of a Murderer\")  # Testing with a book not in the list"
      ],
      "metadata": {
        "id": "BO7TBL6YnWxr"
      },
      "execution_count": null,
      "outputs": []
    },
    {
      "cell_type": "markdown",
      "source": [
        "Chapter 7 exercise 3"
      ],
      "metadata": {
        "id": "FZxjEb8ro21N"
      }
    },
    {
      "cell_type": "code",
      "source": [
        "class Shirt:\n",
        "    total_shirts_made = 0\n",
        "\n",
        "    def __init__(self, size, message=\"I love Python\"):\n",
        "        self.size = size\n",
        "        self.message = message\n",
        "        Shirt.total_shirts_made += 1\n",
        "\n",
        "    def display_summary(self):\n",
        "        print(f\"Shirt size: {self.size}, Message: {self.message}\")\n",
        "\n",
        "    @classmethod\n",
        "    def total_shirts(cls):\n",
        "        print(f\"Total shirts made: {cls.total_shirts_made}\")\n",
        "\n",
        "\n",
        "def create_shirts():\n",
        "    while True:\n",
        "        create_another = input(\"Do you want to create another shirt? (yes/no): \").strip().lower()\n",
        "\n",
        "        if create_another != \"yes\":\n",
        "            break\n",
        "\n",
        "        size = input(\"Enter the size of the shirt (e.g., Small, Medium, Large): \")\n",
        "        message = input(\"Enter the message for the shirt (or press Enter for the default): \")\n",
        "\n",
        "        if not message:\n",
        "            shirt = Shirt(size)\n",
        "        else:\n",
        "            shirt = Shirt(size, message)\n",
        "\n",
        "        print(\"Shirt created successfully!\")\n",
        "        shirt.display_summary()\n",
        "        print()\n",
        "\n",
        "\n",
        "if __name__ == \"__main__\":\n",
        "    create_shirts()\n",
        "    Shirt.total_shirts()"
      ],
      "metadata": {
        "id": "hkuJmGM2o7A2"
      },
      "execution_count": null,
      "outputs": []
    },
    {
      "cell_type": "markdown",
      "source": [
        "Chapter 7 exercise 4"
      ],
      "metadata": {
        "id": "gzIcwTYuqPKm"
      }
    },
    {
      "cell_type": "code",
      "source": [
        "class Shirt:\n",
        "    total_shirts_made = 0\n",
        "    shirts_list = []\n",
        "\n",
        "    def __init__(self, size=\"Large\", message=\"I love Python\", color=\"White\"):\n",
        "        self.size = size\n",
        "        self.message = message\n",
        "        self.color = color\n",
        "        Shirt.total_shirts_made += 1\n",
        "        Shirt.shirts_list.append(self)\n",
        "\n",
        "    def display_summary(self):\n",
        "        print(f\"Shirt size: {self.size}, Message: {self.message}, Color: {self.color}\")\n",
        "\n",
        "    @classmethod\n",
        "    def total_shirts(cls):\n",
        "        print(f\"Total shirts made: {cls.total_shirts_made}\")\n",
        "\n",
        "    @classmethod\n",
        "    def list_shirts(cls):\n",
        "        print(\"List of created shirts:\")\n",
        "        for idx, shirt in enumerate(cls.shirts_list, start=1):\n",
        "            print(f\"Shirt {idx}:\")\n",
        "            shirt.display_summary()\n",
        "            print()\n",
        "\n",
        "\n",
        "def create_shirts():\n",
        "    while True:\n",
        "        size = input(\"Enter the size of the shirt (e.g., Small, Medium, Large): \")\n",
        "        message = input(\"Enter the message for the shirt (or press Enter for the default): \")\n",
        "        color = input(\"Enter the color of the shirt (or press Enter for White): \")\n",
        "\n",
        "        if not message:\n",
        "            shirt = Shirt(size=size, color=color)\n",
        "        else:\n",
        "            shirt = Shirt(size=size, message=message, color=color)\n",
        "\n",
        "        print(\"Shirt created successfully!\")\n",
        "        shirt.display_summary()\n",
        "        print()\n",
        "\n",
        "        create_another = input(\"Do you want to create another shirt? (yes/no): \").strip().lower()\n",
        "        if create_another != \"yes\":\n",
        "            break\n",
        "\n",
        "\n",
        "if __name__ == \"__main__\":\n",
        "    create_shirts()\n",
        "    Shirt.total_shirts()\n",
        "    Shirt.list_shirts()"
      ],
      "metadata": {
        "id": "G8G-9IlAqSJf"
      },
      "execution_count": null,
      "outputs": []
    },
    {
      "cell_type": "markdown",
      "source": [
        "Chapter 7 Exercise 5"
      ],
      "metadata": {
        "id": "E-7cSALkqvkv"
      }
    },
    {
      "cell_type": "code",
      "source": [
        "def describe_city(city, country=\"Unknown\", population=None, description=None):\n",
        "    \"\"\"Prints a detailed description of a city including its country, population, and description.\"\"\"\n",
        "    if country == \"Unknown\":\n",
        "        print(f\"Sorry, we don't have information about {city}.\")\n",
        "    else:\n",
        "        description_str = f\"{city} is located in {country}.\"\n",
        "        if population is not None:\n",
        "            description_str += f\" It has a population of {population} million.\"\n",
        "        if description is not None:\n",
        "            description_str += f\" {description}\"\n",
        "        print(description_str)\n",
        "\n",
        "# Call the function for three different cities with additional information\n",
        "describe_city(\"New York\", \"USA\", 8.4, \"It is known for its skyscrapers and cultural diversity.\")\n",
        "describe_city(\"London\", \"United Kingdom\", 8.9, \"It is the capital of the UK and famous for its history.\")\n",
        "describe_city(\"Sydney\", \"Australia\", 5.3, \"It is known for its stunning beaches and iconic opera house.\")"
      ],
      "metadata": {
        "id": "CIvdauTbqxsn"
      },
      "execution_count": null,
      "outputs": []
    }
  ]
}